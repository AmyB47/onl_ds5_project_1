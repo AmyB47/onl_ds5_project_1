{
 "metadata": {
  "language_info": {
   "codemirror_mode": {
    "name": "ipython",
    "version": 3
   },
   "file_extension": ".py",
   "mimetype": "text/x-python",
   "name": "python",
   "nbconvert_exporter": "python",
   "pygments_lexer": "ipython3",
   "version": "3.8.5-final"
  },
  "orig_nbformat": 2,
  "kernelspec": {
   "name": "python3",
   "display_name": "Python 3",
   "language": "python"
  }
 },
 "nbformat": 4,
 "nbformat_minor": 2,
 "cells": [
  {
   "cell_type": "code",
   "execution_count": 1,
   "metadata": {},
   "outputs": [],
   "source": [
    "import pandas as pd"
   ]
  },
  {
   "cell_type": "code",
   "execution_count": 2,
   "metadata": {},
   "outputs": [],
   "source": [
    "def retrieve_mta_info(weeks, start_date):\n",
    "    lists = []\n",
    "\n",
    "    url_base = 'http://web.mta.info/developers/data/nyct/turnstile/turnstile_'\n",
    "\n",
    "    for week in range(weeks):\n",
    "        file_date = pd.to_datetime(start_date) + pd.to_timedelta(pd.np.ceil(week * 7), unit=\"D\")\n",
    "        \n",
    "        filename = f'{url_base}{str(file_date.year)[2:]}{str(file_date.month).zfill(2)}{str(file_date.day).zfill(2)}.txt'\n",
    "\n",
    "        lists.append(pd.read_csv(filename))\n",
    "\n",
    "    df = pd.concat(lists) \n",
    "\n",
    "    df.to_pickle(f'mta_{pd.to_datetime(start_date).year}')   "
   ]
  },
  {
   "cell_type": "code",
   "execution_count": 3,
   "metadata": {},
   "outputs": [],
   "source": [
    "retrieve_mta_info(4, '2018-05-19')"
   ]
  },
  {
   "cell_type": "code",
   "execution_count": 4,
   "metadata": {},
   "outputs": [],
   "source": [
    "retrieve_mta_info(4, '2019-05-18')"
   ]
  },
  {
   "cell_type": "code",
   "execution_count": 9,
   "metadata": {},
   "outputs": [
    {
     "output_type": "stream",
     "name": "stdout",
     "text": [
      "Variable            Type        Data/Info\n-----------------------------------------\nos                  module      <module 'os' from '/usr/lib/python3.8/os.py'>\npd                  module      <module 'pandas' from '/h<...>ages/pandas/__init__.py'>\nretrieve_mta_info   function    <function retrieve_mta_info at 0x7f25623c8a60>\nsys                 module      <module 'sys' (built-in)>\n"
     ]
    }
   ],
   "source": []
  }
 ]
}