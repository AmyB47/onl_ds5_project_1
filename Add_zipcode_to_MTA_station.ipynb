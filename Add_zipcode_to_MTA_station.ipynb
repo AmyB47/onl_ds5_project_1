{
 "cells": [
  {
   "cell_type": "code",
   "execution_count": 2,
   "metadata": {},
   "outputs": [
    {
     "name": "stdout",
     "output_type": "stream",
     "text": [
      "Collecting geopy\n",
      "  Downloading geopy-2.1.0-py3-none-any.whl (112 kB)\n",
      "\u001b[K     |████████████████████████████████| 112 kB 1.6 MB/s eta 0:00:01\n",
      "\u001b[?25hCollecting geographiclib<2,>=1.49\n",
      "  Downloading geographiclib-1.50-py3-none-any.whl (38 kB)\n",
      "Installing collected packages: geographiclib, geopy\n",
      "Successfully installed geographiclib-1.50 geopy-2.1.0\n"
     ]
    }
   ],
   "source": [
    "# python package geopy is not in conda distribution\n",
    "# run this code to install it\n",
    "\n",
    "!pip install geopy"
   ]
  },
  {
   "cell_type": "code",
   "execution_count": 4,
   "metadata": {},
   "outputs": [
    {
     "ename": "SyntaxError",
     "evalue": "invalid syntax (<ipython-input-4-88da3cf15dff>, line 2)",
     "output_type": "error",
     "traceback": [
      "\u001b[0;36m  File \u001b[0;32m\"<ipython-input-4-88da3cf15dff>\"\u001b[0;36m, line \u001b[0;32m2\u001b[0m\n\u001b[0;31m    https://geopy.readthedocs.io/en/stable/\u001b[0m\n\u001b[0m          ^\u001b[0m\n\u001b[0;31mSyntaxError\u001b[0m\u001b[0;31m:\u001b[0m invalid syntax\n"
     ]
    }
   ],
   "source": [
    "# geopy documentation\n",
    "https://geopy.readthedocs.io/en/stable/\n",
    "    "
   ]
  },
  {
   "cell_type": "code",
   "execution_count": 5,
   "metadata": {},
   "outputs": [],
   "source": [
    "import geopy\n",
    "import pandas as pd\n"
   ]
  },
  {
   "cell_type": "code",
   "execution_count": 6,
   "metadata": {},
   "outputs": [
    {
     "name": "stdout",
     "output_type": "stream",
     "text": [
      "18zp33ny_IRS_NY_2018.xlsx              mta_2018\r\n",
      "Add_zipcode_to_MTA_station.ipynb       mta_2019\r\n",
      "Project 1 Collaboration Worksheet.docx retrieve_mta_data.ipynb\r\n",
      "README.md                              station_info_zipcode.csv\r\n"
     ]
    }
   ],
   "source": [
    "!ls"
   ]
  },
  {
   "cell_type": "code",
   "execution_count": 11,
   "metadata": {},
   "outputs": [],
   "source": [
    "# import csv file with MTA station information including latitude and longitude\n",
    "\n",
    "# data source:  http://web.mta.info/developers/data/nyct/subway/Stations.csv\n",
    "\n",
    "station_info = pd.read_csv(\"MTA_station_info.csv\")"
   ]
  },
  {
   "cell_type": "code",
   "execution_count": 12,
   "metadata": {},
   "outputs": [
    {
     "data": {
      "text/plain": [
       "496"
      ]
     },
     "execution_count": 12,
     "metadata": {},
     "output_type": "execute_result"
    }
   ],
   "source": [
    "len(station_info)"
   ]
  },
  {
   "cell_type": "code",
   "execution_count": 13,
   "metadata": {},
   "outputs": [],
   "source": [
    "# the time to return result is about 1 second per request\n",
    "# time to run on all data set will be about 8 minutes\n",
    "\n",
    "# tested with sample of 5 before running on all 496"
   ]
  },
  {
   "cell_type": "code",
   "execution_count": 14,
   "metadata": {},
   "outputs": [
    {
     "data": {
      "text/plain": [
       "Index(['Unnamed: 0', 'Station ID', 'Complex ID', 'GTFS Stop ID', 'Division',\n",
       "       'Line', 'Stop Name', 'Borough', 'Daytime Routes', 'Structure',\n",
       "       'GTFS Latitude', 'GTFS Longitude', 'North Direction Label',\n",
       "       'South Direction Label', 'ADA', 'ADA Notes', 'zip_code'],\n",
       "      dtype='object')"
      ]
     },
     "execution_count": 14,
     "metadata": {},
     "output_type": "execute_result"
    }
   ],
   "source": [
    "station_info.columns"
   ]
  },
  {
   "cell_type": "code",
   "execution_count": 15,
   "metadata": {},
   "outputs": [
    {
     "data": {
      "text/plain": [
       "Unnamed: 0                 0\n",
       "Station ID                 0\n",
       "Complex ID                 0\n",
       "GTFS Stop ID               0\n",
       "Division                   0\n",
       "Line                       0\n",
       "Stop Name                  0\n",
       "Borough                    0\n",
       "Daytime Routes             0\n",
       "Structure                  0\n",
       "GTFS Latitude              0\n",
       "GTFS Longitude             0\n",
       "North Direction Label     18\n",
       "South Direction Label     15\n",
       "ADA                        0\n",
       "ADA Notes                487\n",
       "zip_code                   0\n",
       "dtype: int64"
      ]
     },
     "execution_count": 15,
     "metadata": {},
     "output_type": "execute_result"
    }
   ],
   "source": [
    "# check that all stations have lat/long data\n",
    "station_info.isna().sum()"
   ]
  },
  {
   "cell_type": "code",
   "execution_count": 23,
   "metadata": {},
   "outputs": [],
   "source": [
    "def get_zipcode(station_info, geolocator, lat_field, lon_field):\n",
    "    \n",
    "    \"\"\" Uses the Nominatim geocoder to return address of latitude and longitude.\n",
    "        Then extracts the zip code of the address\"\"\"\n",
    "    try:\n",
    "        location = geolocator.reverse((station_info[lat_field], station_info[lon_field]))\n",
    "        zip_code = location.raw['address']['postcode']\n",
    "        \n",
    "    except:\n",
    "        zip_code = 99999 # will check any results of 99999 manually\n",
    "    \n",
    "    return zip_code\n",
    "\n",
    "geolocator = geopy.Nominatim(user_agent='metis_project01')\n",
    "\n",
    "station_info['zip_code'] = station_info.apply(get_zipcode, axis=1, geolocator=geolocator, lat_field='GTFS Latitude', lon_field='GTFS Longitude')"
   ]
  },
  {
   "cell_type": "code",
   "execution_count": 17,
   "metadata": {},
   "outputs": [
    {
     "data": {
      "text/html": [
       "<div>\n",
       "<style scoped>\n",
       "    .dataframe tbody tr th:only-of-type {\n",
       "        vertical-align: middle;\n",
       "    }\n",
       "\n",
       "    .dataframe tbody tr th {\n",
       "        vertical-align: top;\n",
       "    }\n",
       "\n",
       "    .dataframe thead th {\n",
       "        text-align: right;\n",
       "    }\n",
       "</style>\n",
       "<table border=\"1\" class=\"dataframe\">\n",
       "  <thead>\n",
       "    <tr style=\"text-align: right;\">\n",
       "      <th></th>\n",
       "      <th>Unnamed: 0</th>\n",
       "      <th>Station ID</th>\n",
       "      <th>Complex ID</th>\n",
       "      <th>GTFS Stop ID</th>\n",
       "      <th>Division</th>\n",
       "      <th>Line</th>\n",
       "      <th>Stop Name</th>\n",
       "      <th>Borough</th>\n",
       "      <th>Daytime Routes</th>\n",
       "      <th>Structure</th>\n",
       "      <th>GTFS Latitude</th>\n",
       "      <th>GTFS Longitude</th>\n",
       "      <th>North Direction Label</th>\n",
       "      <th>South Direction Label</th>\n",
       "      <th>ADA</th>\n",
       "      <th>ADA Notes</th>\n",
       "      <th>zip_code</th>\n",
       "    </tr>\n",
       "  </thead>\n",
       "  <tbody>\n",
       "    <tr>\n",
       "      <th>42</th>\n",
       "      <td>42</td>\n",
       "      <td>43</td>\n",
       "      <td>43</td>\n",
       "      <td>D27</td>\n",
       "      <td>BMT</td>\n",
       "      <td>Broadway - Brighton</td>\n",
       "      <td>Parkside Av</td>\n",
       "      <td>Bk</td>\n",
       "      <td>B Q</td>\n",
       "      <td>Open Cut</td>\n",
       "      <td>40.655292</td>\n",
       "      <td>-73.961495</td>\n",
       "      <td>Manhattan</td>\n",
       "      <td>Brighton Beach &amp; Coney Island</td>\n",
       "      <td>0</td>\n",
       "      <td>NaN</td>\n",
       "      <td>99999</td>\n",
       "    </tr>\n",
       "    <tr>\n",
       "      <th>197</th>\n",
       "      <td>197</td>\n",
       "      <td>197</td>\n",
       "      <td>197</td>\n",
       "      <td>H02</td>\n",
       "      <td>IND</td>\n",
       "      <td>Rockaway</td>\n",
       "      <td>Aqueduct-N Conduit Av</td>\n",
       "      <td>Q</td>\n",
       "      <td>A</td>\n",
       "      <td>At Grade</td>\n",
       "      <td>40.668234</td>\n",
       "      <td>-73.834058</td>\n",
       "      <td>Manhattan</td>\n",
       "      <td>Rockaways</td>\n",
       "      <td>0</td>\n",
       "      <td>NaN</td>\n",
       "      <td>99999</td>\n",
       "    </tr>\n",
       "    <tr>\n",
       "      <th>205</th>\n",
       "      <td>205</td>\n",
       "      <td>205</td>\n",
       "      <td>205</td>\n",
       "      <td>H07</td>\n",
       "      <td>IND</td>\n",
       "      <td>Rockaway</td>\n",
       "      <td>Beach 60 St</td>\n",
       "      <td>Q</td>\n",
       "      <td>A</td>\n",
       "      <td>Viaduct</td>\n",
       "      <td>40.592374</td>\n",
       "      <td>-73.788522</td>\n",
       "      <td>Manhattan</td>\n",
       "      <td>Far Rockaway</td>\n",
       "      <td>0</td>\n",
       "      <td>NaN</td>\n",
       "      <td>99999</td>\n",
       "    </tr>\n",
       "    <tr>\n",
       "      <th>231</th>\n",
       "      <td>231</td>\n",
       "      <td>231</td>\n",
       "      <td>231</td>\n",
       "      <td>D22</td>\n",
       "      <td>IND</td>\n",
       "      <td>6th Av - Culver</td>\n",
       "      <td>Grand St</td>\n",
       "      <td>M</td>\n",
       "      <td>B D</td>\n",
       "      <td>Subway</td>\n",
       "      <td>40.718267</td>\n",
       "      <td>-73.993753</td>\n",
       "      <td>Uptown &amp; The Bronx</td>\n",
       "      <td>Brooklyn</td>\n",
       "      <td>0</td>\n",
       "      <td>NaN</td>\n",
       "      <td>99999</td>\n",
       "    </tr>\n",
       "    <tr>\n",
       "      <th>313</th>\n",
       "      <td>313</td>\n",
       "      <td>313</td>\n",
       "      <td>313</td>\n",
       "      <td>123</td>\n",
       "      <td>IRT</td>\n",
       "      <td>Broadway - 7Av</td>\n",
       "      <td>72 St</td>\n",
       "      <td>M</td>\n",
       "      <td>1 2 3</td>\n",
       "      <td>Subway</td>\n",
       "      <td>40.778453</td>\n",
       "      <td>-73.981970</td>\n",
       "      <td>Uptown &amp; The Bronx</td>\n",
       "      <td>Downtown &amp; Brooklyn</td>\n",
       "      <td>1</td>\n",
       "      <td>NaN</td>\n",
       "      <td>99999</td>\n",
       "    </tr>\n",
       "  </tbody>\n",
       "</table>\n",
       "</div>"
      ],
      "text/plain": [
       "     Unnamed: 0  Station ID  Complex ID GTFS Stop ID Division  \\\n",
       "42           42          43          43          D27      BMT   \n",
       "197         197         197         197          H02      IND   \n",
       "205         205         205         205          H07      IND   \n",
       "231         231         231         231          D22      IND   \n",
       "313         313         313         313          123      IRT   \n",
       "\n",
       "                    Line              Stop Name Borough Daytime Routes  \\\n",
       "42   Broadway - Brighton            Parkside Av      Bk            B Q   \n",
       "197             Rockaway  Aqueduct-N Conduit Av       Q              A   \n",
       "205             Rockaway            Beach 60 St       Q              A   \n",
       "231      6th Av - Culver               Grand St       M            B D   \n",
       "313       Broadway - 7Av                  72 St       M          1 2 3   \n",
       "\n",
       "    Structure  GTFS Latitude  GTFS Longitude North Direction Label  \\\n",
       "42   Open Cut      40.655292      -73.961495             Manhattan   \n",
       "197  At Grade      40.668234      -73.834058             Manhattan   \n",
       "205   Viaduct      40.592374      -73.788522             Manhattan   \n",
       "231    Subway      40.718267      -73.993753    Uptown & The Bronx   \n",
       "313    Subway      40.778453      -73.981970    Uptown & The Bronx   \n",
       "\n",
       "             South Direction Label  ADA ADA Notes zip_code  \n",
       "42   Brighton Beach & Coney Island    0       NaN    99999  \n",
       "197                      Rockaways    0       NaN    99999  \n",
       "205                   Far Rockaway    0       NaN    99999  \n",
       "231                       Brooklyn    0       NaN    99999  \n",
       "313            Downtown & Brooklyn    1       NaN    99999  "
      ]
     },
     "execution_count": 17,
     "metadata": {},
     "output_type": "execute_result"
    }
   ],
   "source": [
    "# check if any 99999\n",
    "station_info[station_info['zip_code'] == 99999]"
   ]
  },
  {
   "cell_type": "code",
   "execution_count": 18,
   "metadata": {},
   "outputs": [],
   "source": [
    "# from wikipedia the Parkside Ave station at this lat and long is in zip code 11225\n",
    "# https://en.wikipedia.org/wiki/Parkside_Avenue_station\n",
    "\n",
    "station_info.loc[42,'zip_code'] = 11225"
   ]
  },
  {
   "cell_type": "code",
   "execution_count": 19,
   "metadata": {},
   "outputs": [],
   "source": [
    "# from wikipedia the 72st station at this lat and long is in zip code 10023\n",
    "# https://en.wikipedia.org/wiki/72nd_Street_station_(IRT_Broadway%E2%80%93Seventh_Avenue_Line)\n",
    "\n",
    "station_info.loc[313, 'zip_code'] = 10023"
   ]
  },
  {
   "cell_type": "code",
   "execution_count": 26,
   "metadata": {},
   "outputs": [],
   "source": [
    "#export new csv with the zip_code added to the station_info file\n",
    "\n",
    "station_info.to_csv('station_info_zipcode.csv')"
   ]
  },
  {
   "cell_type": "code",
   "execution_count": 21,
   "metadata": {},
   "outputs": [
    {
     "name": "stdout",
     "output_type": "stream",
     "text": [
      "18zp33ny_IRS_NY_2018.xlsx              mta_2018\r\n",
      "Add_zipcode_to_MTA_station.ipynb       mta_2019\r\n",
      "Project 1 Collaboration Worksheet.docx retrieve_mta_data.ipynb\r\n",
      "README.md                              station_info_zipcode.csv\r\n"
     ]
    }
   ],
   "source": [
    "!ls"
   ]
  }
 ],
 "metadata": {
  "kernelspec": {
   "display_name": "Python 3",
   "language": "python",
   "name": "python3"
  },
  "language_info": {
   "codemirror_mode": {
    "name": "ipython",
    "version": 3
   },
   "file_extension": ".py",
   "mimetype": "text/x-python",
   "name": "python",
   "nbconvert_exporter": "python",
   "pygments_lexer": "ipython3",
   "version": "3.8.5"
  }
 },
 "nbformat": 4,
 "nbformat_minor": 4
}
