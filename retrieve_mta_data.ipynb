{
 "cells": [
  {
   "cell_type": "code",
   "execution_count": 1,
   "metadata": {},
   "outputs": [],
   "source": [
    "import pandas as pd"
   ]
  },
  {
   "cell_type": "code",
   "execution_count": 2,
   "metadata": {},
   "outputs": [],
   "source": [
    "mta_2018 = []\n",
    "mta_2018.append(pd.read_csv('http://web.mta.info/developers/data/nyct/turnstile/turnstile_180519.txt'))\n",
    "mta_2018.append(pd.read_csv('http://web.mta.info/developers/data/nyct/turnstile/turnstile_180526.txt'))\n",
    "mta_2018.append(pd.read_csv('http://web.mta.info/developers/data/nyct/turnstile/turnstile_180602.txt'))\n",
    "mta_2018.append(pd.read_csv('http://web.mta.info/developers/data/nyct/turnstile/turnstile_180609.txt'))\n",
    "\n",
    "\n",
    "mta_2019 = []\n",
    "mta_2019.append(pd.read_csv('http://web.mta.info/developers/data/nyct/turnstile/turnstile_190518.txt'))\n",
    "mta_2019.append(pd.read_csv('http://web.mta.info/developers/data/nyct/turnstile/turnstile_190525.txt'))\n",
    "mta_2019.append(pd.read_csv('http://web.mta.info/developers/data/nyct/turnstile/turnstile_190601.txt'))\n",
    "mta_2019.append(pd.read_csv('http://web.mta.info/developers/data/nyct/turnstile/turnstile_190608.txt'))"
   ]
  },
  {
   "cell_type": "code",
   "execution_count": 3,
   "metadata": {},
   "outputs": [],
   "source": [
    "mta_2018_df = pd.concat(mta_2018)\n",
    "mta_2018_df.to_pickle('mta_2018')"
   ]
  },
  {
   "cell_type": "code",
   "execution_count": 4,
   "metadata": {},
   "outputs": [],
   "source": [
    "mta_2019_df = pd.concat(mta_2019)\n",
    "mta_2019_df.to_pickle('mta_2019')"
   ]
  },
  {
   "cell_type": "code",
   "execution_count": null,
   "metadata": {},
   "outputs": [],
   "source": []
  },
  {
   "cell_type": "code",
   "execution_count": null,
   "metadata": {},
   "outputs": [],
   "source": []
  },
  {
   "cell_type": "code",
   "execution_count": null,
   "metadata": {},
   "outputs": [],
   "source": []
  }
 ],
 "metadata": {
  "kernelspec": {
   "display_name": "Python 3",
   "language": "python",
   "name": "python3"
  },
  "language_info": {
   "codemirror_mode": {
    "name": "ipython",
    "version": 3
   },
   "file_extension": ".py",
   "mimetype": "text/x-python",
   "name": "python",
   "nbconvert_exporter": "python",
   "pygments_lexer": "ipython3",
   "version": "3.8.5"
  }
 },
 "nbformat": 4,
 "nbformat_minor": 2
}
