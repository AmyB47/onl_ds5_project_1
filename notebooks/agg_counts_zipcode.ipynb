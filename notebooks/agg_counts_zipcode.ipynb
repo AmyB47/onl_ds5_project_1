{
 "cells": [
  {
   "cell_type": "code",
   "execution_count": 1,
   "metadata": {},
   "outputs": [
    {
     "data": {
      "text/plain": [
       "\"\\n\\nImport NY 2018 IRS Excel file downloaded from\\nhttps://www.irs.gov/statistics/soi-tax-stats-individual-income-tax-statistics-2018-zip-code-data-soi\\nand saved as '18zp33ny_IRS_NY_2018.xlsx'\\n\\nFilter IRS file to MTA station zip codes saved in file 'station_info_zipcode.csv'\\nAggreate number of tax returns >=75k\\n\\nCount number of stations in each zip code\\n\\nCombine station counts with tax return counts by zip code\\n\\nOutput CSV 'station_zip_irs_counts.csv'\\n\\n\""
      ]
     },
     "execution_count": 1,
     "metadata": {},
     "output_type": "execute_result"
    }
   ],
   "source": [
    "\"\"\"\n",
    "\n",
    "Import NY 2018 IRS Excel file downloaded from\n",
    "https://www.irs.gov/statistics/soi-tax-stats-individual-income-tax-statistics-2018-zip-code-data-soi\n",
    "and saved as '18zp33ny_IRS_NY_2018.xlsx'\n",
    "\n",
    "Filter IRS file to MTA station zip codes saved in file 'station_info_zipcode.csv'\n",
    "Aggreate number of tax returns >=75k\n",
    "\n",
    "Count number of stations in each zip code\n",
    "\n",
    "Combine station counts with tax return counts by zip code\n",
    "\n",
    "Output CSV 'station_zip_irs_counts.csv'\n",
    "\n",
    "\"\"\"\n"
   ]
  },
  {
   "cell_type": "code",
   "execution_count": 2,
   "metadata": {},
   "outputs": [],
   "source": [
    "import pandas as pd\n",
    "import numpy as np\n"
   ]
  },
  {
   "cell_type": "code",
   "execution_count": 3,
   "metadata": {},
   "outputs": [
    {
     "data": {
      "text/html": [
       "<div>\n",
       "<style scoped>\n",
       "    .dataframe tbody tr th:only-of-type {\n",
       "        vertical-align: middle;\n",
       "    }\n",
       "\n",
       "    .dataframe tbody tr th {\n",
       "        vertical-align: top;\n",
       "    }\n",
       "\n",
       "    .dataframe thead th {\n",
       "        text-align: right;\n",
       "    }\n",
       "</style>\n",
       "<table border=\"1\" class=\"dataframe\">\n",
       "  <thead>\n",
       "    <tr style=\"text-align: right;\">\n",
       "      <th></th>\n",
       "      <th>ZIP\\ncode [1]</th>\n",
       "      <th>Size of adjusted gross income</th>\n",
       "      <th>Number of returns</th>\n",
       "      <th>Number of single returns</th>\n",
       "      <th>Number of joint returns</th>\n",
       "      <th>Number of head of household returns</th>\n",
       "      <th>Number of electronically filed returns</th>\n",
       "      <th>Number of computer prepared paper returns</th>\n",
       "      <th>Number with paid preparer's signature</th>\n",
       "      <th>Number of returns with direct deposit</th>\n",
       "      <th>...</th>\n",
       "      <th>Net investment income tax</th>\n",
       "      <th>Unnamed: 142</th>\n",
       "      <th>Tax due at time of filing [12]</th>\n",
       "      <th>Unnamed: 144</th>\n",
       "      <th>Total overpayments</th>\n",
       "      <th>Unnamed: 146</th>\n",
       "      <th>Overpayments refunded [13]</th>\n",
       "      <th>Unnamed: 148</th>\n",
       "      <th>Credited to next year's estimated tax</th>\n",
       "      <th>Unnamed: 150</th>\n",
       "    </tr>\n",
       "  </thead>\n",
       "  <tbody>\n",
       "    <tr>\n",
       "      <th>0</th>\n",
       "      <td>NaN</td>\n",
       "      <td>NaN</td>\n",
       "      <td>NaN</td>\n",
       "      <td>NaN</td>\n",
       "      <td>NaN</td>\n",
       "      <td>NaN</td>\n",
       "      <td>NaN</td>\n",
       "      <td>NaN</td>\n",
       "      <td>NaN</td>\n",
       "      <td>NaN</td>\n",
       "      <td>...</td>\n",
       "      <td>Number of returns</td>\n",
       "      <td>Amount</td>\n",
       "      <td>Number of returns</td>\n",
       "      <td>Amount</td>\n",
       "      <td>Number of returns</td>\n",
       "      <td>Amount</td>\n",
       "      <td>Number of returns</td>\n",
       "      <td>Amount</td>\n",
       "      <td>Number of returns</td>\n",
       "      <td>Amount</td>\n",
       "    </tr>\n",
       "    <tr>\n",
       "      <th>1</th>\n",
       "      <td>NaN</td>\n",
       "      <td>NaN</td>\n",
       "      <td>-1.0</td>\n",
       "      <td>-2.0</td>\n",
       "      <td>-3.0</td>\n",
       "      <td>-4.0</td>\n",
       "      <td>-5.0</td>\n",
       "      <td>-6.0</td>\n",
       "      <td>-7.0</td>\n",
       "      <td>-8.0</td>\n",
       "      <td>...</td>\n",
       "      <td>-140</td>\n",
       "      <td>-141</td>\n",
       "      <td>-142</td>\n",
       "      <td>-143</td>\n",
       "      <td>-144</td>\n",
       "      <td>-145</td>\n",
       "      <td>-146</td>\n",
       "      <td>-147</td>\n",
       "      <td>-148</td>\n",
       "      <td>-149</td>\n",
       "    </tr>\n",
       "  </tbody>\n",
       "</table>\n",
       "<p>2 rows × 151 columns</p>\n",
       "</div>"
      ],
      "text/plain": [
       "  ZIP\\ncode [1] Size of adjusted gross income  Number of returns  \\\n",
       "0           NaN                           NaN                NaN   \n",
       "1           NaN                           NaN               -1.0   \n",
       "\n",
       "   Number of single returns  Number of joint returns  \\\n",
       "0                       NaN                      NaN   \n",
       "1                      -2.0                     -3.0   \n",
       "\n",
       "   Number of head of household returns  \\\n",
       "0                                  NaN   \n",
       "1                                 -4.0   \n",
       "\n",
       "   Number of electronically filed returns  \\\n",
       "0                                     NaN   \n",
       "1                                    -5.0   \n",
       "\n",
       "   Number of computer prepared paper returns  \\\n",
       "0                                        NaN   \n",
       "1                                       -6.0   \n",
       "\n",
       "   Number with paid preparer's signature  \\\n",
       "0                                    NaN   \n",
       "1                                   -7.0   \n",
       "\n",
       "   Number of returns with direct deposit  ...  Net investment income tax  \\\n",
       "0                                    NaN  ...          Number of returns   \n",
       "1                                   -8.0  ...                       -140   \n",
       "\n",
       "   Unnamed: 142 Tax due at time of filing [12] Unnamed: 144  \\\n",
       "0        Amount              Number of returns       Amount   \n",
       "1          -141                           -142         -143   \n",
       "\n",
       "  Total overpayments Unnamed: 146  Overpayments refunded [13]  Unnamed: 148  \\\n",
       "0  Number of returns       Amount           Number of returns        Amount   \n",
       "1               -144         -145                        -146          -147   \n",
       "\n",
       "   Credited to next year's estimated tax Unnamed: 150  \n",
       "0                      Number of returns       Amount  \n",
       "1                                   -148         -149  \n",
       "\n",
       "[2 rows x 151 columns]"
      ]
     },
     "execution_count": 3,
     "metadata": {},
     "output_type": "execute_result"
    }
   ],
   "source": [
    "# read in the IRS file\n",
    "irs_import = pd.read_excel('18zp33ny_IRS_NY_2018.xlsx', header=3, converters={'ZIP\\ncode [1]': str})\n",
    "irs_import.head(2)\n"
   ]
  },
  {
   "cell_type": "code",
   "execution_count": 4,
   "metadata": {},
   "outputs": [
    {
     "data": {
      "text/html": [
       "<div>\n",
       "<style scoped>\n",
       "    .dataframe tbody tr th:only-of-type {\n",
       "        vertical-align: middle;\n",
       "    }\n",
       "\n",
       "    .dataframe tbody tr th {\n",
       "        vertical-align: top;\n",
       "    }\n",
       "\n",
       "    .dataframe thead th {\n",
       "        text-align: right;\n",
       "    }\n",
       "</style>\n",
       "<table border=\"1\" class=\"dataframe\">\n",
       "  <thead>\n",
       "    <tr style=\"text-align: right;\">\n",
       "      <th></th>\n",
       "      <th>Unnamed: 0</th>\n",
       "      <th>Station ID</th>\n",
       "      <th>Complex ID</th>\n",
       "      <th>GTFS Stop ID</th>\n",
       "      <th>Division</th>\n",
       "      <th>Line</th>\n",
       "      <th>Stop Name</th>\n",
       "      <th>Borough</th>\n",
       "      <th>Daytime Routes</th>\n",
       "      <th>Structure</th>\n",
       "      <th>GTFS Latitude</th>\n",
       "      <th>GTFS Longitude</th>\n",
       "      <th>North Direction Label</th>\n",
       "      <th>South Direction Label</th>\n",
       "      <th>ADA</th>\n",
       "      <th>ADA Notes</th>\n",
       "      <th>zip_code</th>\n",
       "    </tr>\n",
       "  </thead>\n",
       "  <tbody>\n",
       "    <tr>\n",
       "      <th>0</th>\n",
       "      <td>0</td>\n",
       "      <td>1</td>\n",
       "      <td>1</td>\n",
       "      <td>R01</td>\n",
       "      <td>BMT</td>\n",
       "      <td>Astoria</td>\n",
       "      <td>Astoria-Ditmars Blvd</td>\n",
       "      <td>Q</td>\n",
       "      <td>N W</td>\n",
       "      <td>Elevated</td>\n",
       "      <td>40.775036</td>\n",
       "      <td>-73.912034</td>\n",
       "      <td>NaN</td>\n",
       "      <td>Manhattan</td>\n",
       "      <td>0</td>\n",
       "      <td>NaN</td>\n",
       "      <td>11101</td>\n",
       "    </tr>\n",
       "    <tr>\n",
       "      <th>1</th>\n",
       "      <td>1</td>\n",
       "      <td>2</td>\n",
       "      <td>2</td>\n",
       "      <td>R03</td>\n",
       "      <td>BMT</td>\n",
       "      <td>Astoria</td>\n",
       "      <td>Astoria Blvd</td>\n",
       "      <td>Q</td>\n",
       "      <td>N W</td>\n",
       "      <td>Elevated</td>\n",
       "      <td>40.770258</td>\n",
       "      <td>-73.917843</td>\n",
       "      <td>Ditmars Blvd</td>\n",
       "      <td>Manhattan</td>\n",
       "      <td>1</td>\n",
       "      <td>NaN</td>\n",
       "      <td>11102</td>\n",
       "    </tr>\n",
       "  </tbody>\n",
       "</table>\n",
       "</div>"
      ],
      "text/plain": [
       "   Unnamed: 0  Station ID  Complex ID GTFS Stop ID Division     Line  \\\n",
       "0           0           1           1          R01      BMT  Astoria   \n",
       "1           1           2           2          R03      BMT  Astoria   \n",
       "\n",
       "              Stop Name Borough Daytime Routes Structure  GTFS Latitude  \\\n",
       "0  Astoria-Ditmars Blvd       Q            N W  Elevated      40.775036   \n",
       "1          Astoria Blvd       Q            N W  Elevated      40.770258   \n",
       "\n",
       "   GTFS Longitude North Direction Label South Direction Label  ADA ADA Notes  \\\n",
       "0      -73.912034                   NaN             Manhattan    0       NaN   \n",
       "1      -73.917843          Ditmars Blvd             Manhattan    1       NaN   \n",
       "\n",
       "  zip_code  \n",
       "0    11101  \n",
       "1    11102  "
      ]
     },
     "execution_count": 4,
     "metadata": {},
     "output_type": "execute_result"
    }
   ],
   "source": [
    "# import the csv with station info plus added the zip codes\n",
    "station_info = pd.read_csv('station_info_zipcode.csv')\n",
    "station_info.head(2)"
   ]
  },
  {
   "cell_type": "code",
   "execution_count": 5,
   "metadata": {},
   "outputs": [
    {
     "data": {
      "text/plain": [
       "Index(['ZIP\\ncode [1]', 'Size of adjusted gross income', 'Number of returns',\n",
       "       'Number of single returns', 'Number of joint returns',\n",
       "       'Number of head of household returns',\n",
       "       'Number of electronically filed returns',\n",
       "       'Number of computer prepared paper returns',\n",
       "       'Number with paid preparer's signature',\n",
       "       'Number of returns with direct deposit',\n",
       "       ...\n",
       "       'Net investment income tax', 'Unnamed: 142',\n",
       "       'Tax due at time of filing [12]', 'Unnamed: 144', 'Total overpayments',\n",
       "       'Unnamed: 146', 'Overpayments refunded [13]', 'Unnamed: 148',\n",
       "       'Credited to next year's estimated tax', 'Unnamed: 150'],\n",
       "      dtype='object', length=151)"
      ]
     },
     "execution_count": 5,
     "metadata": {},
     "output_type": "execute_result"
    }
   ],
   "source": [
    "irs_import.columns"
   ]
  },
  {
   "cell_type": "code",
   "execution_count": 6,
   "metadata": {},
   "outputs": [
    {
     "data": {
      "text/plain": [
       "Index(['Unnamed: 0', 'Station ID', 'Complex ID', 'GTFS Stop ID', 'Division',\n",
       "       'Line', 'Stop Name', 'Borough', 'Daytime Routes', 'Structure',\n",
       "       'GTFS Latitude', 'GTFS Longitude', 'North Direction Label',\n",
       "       'South Direction Label', 'ADA', 'ADA Notes', 'zip_code'],\n",
       "      dtype='object')"
      ]
     },
     "execution_count": 6,
     "metadata": {},
     "output_type": "execute_result"
    }
   ],
   "source": [
    "station_info.columns"
   ]
  },
  {
   "cell_type": "code",
   "execution_count": 7,
   "metadata": {},
   "outputs": [
    {
     "data": {
      "text/html": [
       "<div>\n",
       "<style scoped>\n",
       "    .dataframe tbody tr th:only-of-type {\n",
       "        vertical-align: middle;\n",
       "    }\n",
       "\n",
       "    .dataframe tbody tr th {\n",
       "        vertical-align: top;\n",
       "    }\n",
       "\n",
       "    .dataframe thead th {\n",
       "        text-align: right;\n",
       "    }\n",
       "</style>\n",
       "<table border=\"1\" class=\"dataframe\">\n",
       "  <thead>\n",
       "    <tr style=\"text-align: right;\">\n",
       "      <th></th>\n",
       "      <th>ZIP</th>\n",
       "      <th>Size of adjusted gross income</th>\n",
       "      <th>Number of returns</th>\n",
       "      <th>Number of single returns</th>\n",
       "      <th>Number of joint returns</th>\n",
       "      <th>Number of head of household returns</th>\n",
       "      <th>Number of electronically filed returns</th>\n",
       "      <th>Number of computer prepared paper returns</th>\n",
       "      <th>Number with paid preparer's signature</th>\n",
       "      <th>Number of returns with direct deposit</th>\n",
       "      <th>...</th>\n",
       "      <th>Net investment income tax</th>\n",
       "      <th>Unnamed: 142</th>\n",
       "      <th>Tax due at time of filing [12]</th>\n",
       "      <th>Unnamed: 144</th>\n",
       "      <th>Total overpayments</th>\n",
       "      <th>Unnamed: 146</th>\n",
       "      <th>Overpayments refunded [13]</th>\n",
       "      <th>Unnamed: 148</th>\n",
       "      <th>Credited to next year's estimated tax</th>\n",
       "      <th>Unnamed: 150</th>\n",
       "    </tr>\n",
       "  </thead>\n",
       "  <tbody>\n",
       "    <tr>\n",
       "      <th>0</th>\n",
       "      <td>NaN</td>\n",
       "      <td>NaN</td>\n",
       "      <td>NaN</td>\n",
       "      <td>NaN</td>\n",
       "      <td>NaN</td>\n",
       "      <td>NaN</td>\n",
       "      <td>NaN</td>\n",
       "      <td>NaN</td>\n",
       "      <td>NaN</td>\n",
       "      <td>NaN</td>\n",
       "      <td>...</td>\n",
       "      <td>Number of returns</td>\n",
       "      <td>Amount</td>\n",
       "      <td>Number of returns</td>\n",
       "      <td>Amount</td>\n",
       "      <td>Number of returns</td>\n",
       "      <td>Amount</td>\n",
       "      <td>Number of returns</td>\n",
       "      <td>Amount</td>\n",
       "      <td>Number of returns</td>\n",
       "      <td>Amount</td>\n",
       "    </tr>\n",
       "    <tr>\n",
       "      <th>1</th>\n",
       "      <td>NaN</td>\n",
       "      <td>NaN</td>\n",
       "      <td>-1.0</td>\n",
       "      <td>-2.0</td>\n",
       "      <td>-3.0</td>\n",
       "      <td>-4.0</td>\n",
       "      <td>-5.0</td>\n",
       "      <td>-6.0</td>\n",
       "      <td>-7.0</td>\n",
       "      <td>-8.0</td>\n",
       "      <td>...</td>\n",
       "      <td>-140</td>\n",
       "      <td>-141</td>\n",
       "      <td>-142</td>\n",
       "      <td>-143</td>\n",
       "      <td>-144</td>\n",
       "      <td>-145</td>\n",
       "      <td>-146</td>\n",
       "      <td>-147</td>\n",
       "      <td>-148</td>\n",
       "      <td>-149</td>\n",
       "    </tr>\n",
       "  </tbody>\n",
       "</table>\n",
       "<p>2 rows × 151 columns</p>\n",
       "</div>"
      ],
      "text/plain": [
       "   ZIP Size of adjusted gross income  Number of returns  \\\n",
       "0  NaN                           NaN                NaN   \n",
       "1  NaN                           NaN               -1.0   \n",
       "\n",
       "   Number of single returns  Number of joint returns  \\\n",
       "0                       NaN                      NaN   \n",
       "1                      -2.0                     -3.0   \n",
       "\n",
       "   Number of head of household returns  \\\n",
       "0                                  NaN   \n",
       "1                                 -4.0   \n",
       "\n",
       "   Number of electronically filed returns  \\\n",
       "0                                     NaN   \n",
       "1                                    -5.0   \n",
       "\n",
       "   Number of computer prepared paper returns  \\\n",
       "0                                        NaN   \n",
       "1                                       -6.0   \n",
       "\n",
       "   Number with paid preparer's signature  \\\n",
       "0                                    NaN   \n",
       "1                                   -7.0   \n",
       "\n",
       "   Number of returns with direct deposit  ...  Net investment income tax  \\\n",
       "0                                    NaN  ...          Number of returns   \n",
       "1                                   -8.0  ...                       -140   \n",
       "\n",
       "   Unnamed: 142 Tax due at time of filing [12] Unnamed: 144  \\\n",
       "0        Amount              Number of returns       Amount   \n",
       "1          -141                           -142         -143   \n",
       "\n",
       "  Total overpayments Unnamed: 146  Overpayments refunded [13]  Unnamed: 148  \\\n",
       "0  Number of returns       Amount           Number of returns        Amount   \n",
       "1               -144         -145                        -146          -147   \n",
       "\n",
       "   Credited to next year's estimated tax Unnamed: 150  \n",
       "0                      Number of returns       Amount  \n",
       "1                                   -148         -149  \n",
       "\n",
       "[2 rows x 151 columns]"
      ]
     },
     "execution_count": 7,
     "metadata": {},
     "output_type": "execute_result"
    }
   ],
   "source": [
    "irs_import = irs_import.rename(columns={'ZIP\\ncode [1]': 'ZIP'})\n",
    "\n",
    "irs_import.head(2)"
   ]
  },
  {
   "cell_type": "code",
   "execution_count": 8,
   "metadata": {},
   "outputs": [],
   "source": [
    "subset_irs = irs_import[['ZIP', 'Size of adjusted gross income', 'Number of returns']]\n"
   ]
  },
  {
   "cell_type": "code",
   "execution_count": 9,
   "metadata": {},
   "outputs": [
    {
     "data": {
      "text/plain": [
       "140"
      ]
     },
     "execution_count": 9,
     "metadata": {},
     "output_type": "execute_result"
    }
   ],
   "source": [
    "# unique zip_codes in MTA station info file\n",
    "ny_zips = station_info['zip_code'].unique()\n",
    "len(ny_zips)"
   ]
  },
  {
   "cell_type": "code",
   "execution_count": 10,
   "metadata": {},
   "outputs": [],
   "source": [
    "# filter NY IRS data to only zip codes with MTA stations\n",
    "mta_zips = subset_irs[subset_irs['ZIP'].isin(ny_zips)]\n"
   ]
  },
  {
   "cell_type": "code",
   "execution_count": 11,
   "metadata": {},
   "outputs": [
    {
     "data": {
      "text/plain": [
       "Index(['ZIP', 'Size of adjusted gross income', 'Number of returns'], dtype='object')"
      ]
     },
     "execution_count": 11,
     "metadata": {},
     "output_type": "execute_result"
    }
   ],
   "source": [
    "mta_zips.columns"
   ]
  },
  {
   "cell_type": "code",
   "execution_count": 12,
   "metadata": {},
   "outputs": [
    {
     "data": {
      "text/html": [
       "<div>\n",
       "<style scoped>\n",
       "    .dataframe tbody tr th:only-of-type {\n",
       "        vertical-align: middle;\n",
       "    }\n",
       "\n",
       "    .dataframe tbody tr th {\n",
       "        vertical-align: top;\n",
       "    }\n",
       "\n",
       "    .dataframe thead th {\n",
       "        text-align: right;\n",
       "    }\n",
       "</style>\n",
       "<table border=\"1\" class=\"dataframe\">\n",
       "  <thead>\n",
       "    <tr style=\"text-align: right;\">\n",
       "      <th></th>\n",
       "      <th>ZIP</th>\n",
       "      <th>Size of adjusted gross income</th>\n",
       "      <th>Number of returns</th>\n",
       "    </tr>\n",
       "  </thead>\n",
       "  <tbody>\n",
       "    <tr>\n",
       "      <th>10</th>\n",
       "      <td>10001</td>\n",
       "      <td>NaN</td>\n",
       "      <td>16150.0</td>\n",
       "    </tr>\n",
       "    <tr>\n",
       "      <th>11</th>\n",
       "      <td>10001</td>\n",
       "      <td>$1 under $25,000</td>\n",
       "      <td>3680.0</td>\n",
       "    </tr>\n",
       "  </tbody>\n",
       "</table>\n",
       "</div>"
      ],
      "text/plain": [
       "      ZIP Size of adjusted gross income  Number of returns\n",
       "10  10001                           NaN            16150.0\n",
       "11  10001              $1 under $25,000             3680.0"
      ]
     },
     "execution_count": 12,
     "metadata": {},
     "output_type": "execute_result"
    }
   ],
   "source": [
    "mta_zips.head(2)"
   ]
  },
  {
   "cell_type": "code",
   "execution_count": 13,
   "metadata": {},
   "outputs": [],
   "source": [
    "# IRS excel file was formatted with blank rows. Remove the extra blank rows.\n",
    "mta_zips.loc[:].dropna(axis=0, how='any', inplace=True)"
   ]
  },
  {
   "cell_type": "code",
   "execution_count": 14,
   "metadata": {},
   "outputs": [
    {
     "data": {
      "text/html": [
       "<div>\n",
       "<style scoped>\n",
       "    .dataframe tbody tr th:only-of-type {\n",
       "        vertical-align: middle;\n",
       "    }\n",
       "\n",
       "    .dataframe tbody tr th {\n",
       "        vertical-align: top;\n",
       "    }\n",
       "\n",
       "    .dataframe thead th {\n",
       "        text-align: right;\n",
       "    }\n",
       "</style>\n",
       "<table border=\"1\" class=\"dataframe\">\n",
       "  <thead>\n",
       "    <tr style=\"text-align: right;\">\n",
       "      <th></th>\n",
       "      <th>ZIP</th>\n",
       "      <th>Size of adjusted gross income</th>\n",
       "      <th>Number of returns</th>\n",
       "    </tr>\n",
       "  </thead>\n",
       "  <tbody>\n",
       "    <tr>\n",
       "      <th>10</th>\n",
       "      <td>10001</td>\n",
       "      <td>NaN</td>\n",
       "      <td>16150.0</td>\n",
       "    </tr>\n",
       "    <tr>\n",
       "      <th>11</th>\n",
       "      <td>10001</td>\n",
       "      <td>$1 under $25,000</td>\n",
       "      <td>3680.0</td>\n",
       "    </tr>\n",
       "    <tr>\n",
       "      <th>12</th>\n",
       "      <td>10001</td>\n",
       "      <td>$25,000 under $50,000</td>\n",
       "      <td>2470.0</td>\n",
       "    </tr>\n",
       "    <tr>\n",
       "      <th>13</th>\n",
       "      <td>10001</td>\n",
       "      <td>$50,000 under $75,000</td>\n",
       "      <td>2070.0</td>\n",
       "    </tr>\n",
       "    <tr>\n",
       "      <th>14</th>\n",
       "      <td>10001</td>\n",
       "      <td>$75,000 under $100,000</td>\n",
       "      <td>1560.0</td>\n",
       "    </tr>\n",
       "  </tbody>\n",
       "</table>\n",
       "</div>"
      ],
      "text/plain": [
       "      ZIP Size of adjusted gross income  Number of returns\n",
       "10  10001                           NaN            16150.0\n",
       "11  10001              $1 under $25,000             3680.0\n",
       "12  10001         $25,000 under $50,000             2470.0\n",
       "13  10001         $50,000 under $75,000             2070.0\n",
       "14  10001        $75,000 under $100,000             1560.0"
      ]
     },
     "execution_count": 14,
     "metadata": {},
     "output_type": "execute_result"
    }
   ],
   "source": [
    "mta_zips.head()"
   ]
  },
  {
   "cell_type": "code",
   "execution_count": 15,
   "metadata": {},
   "outputs": [
    {
     "data": {
      "text/plain": [
       "array([nan, '$1 under $25,000', '$25,000 under $50,000',\n",
       "       '$50,000 under $75,000', '$75,000 under $100,000',\n",
       "       '$100,000 under $200,000', '$200,000 or more'], dtype=object)"
      ]
     },
     "execution_count": 15,
     "metadata": {},
     "output_type": "execute_result"
    }
   ],
   "source": [
    "mta_zips['Size of adjusted gross income'].unique()"
   ]
  },
  {
   "cell_type": "code",
   "execution_count": 16,
   "metadata": {},
   "outputs": [
    {
     "data": {
      "text/plain": [
       "['$75,000 under $100,000', '$100,000 under $200,000', '$200,000 or more']"
      ]
     },
     "execution_count": 16,
     "metadata": {},
     "output_type": "execute_result"
    }
   ],
   "source": [
    "keep_ranges = ['$75,000 under $100,000','$100,000 under $200,000', '$200,000 or more' ]\n",
    "keep_ranges"
   ]
  },
  {
   "cell_type": "code",
   "execution_count": 17,
   "metadata": {},
   "outputs": [],
   "source": [
    "over_75 = mta_zips[mta_zips['Size of adjusted gross income'].isin(keep_ranges)]\n"
   ]
  },
  {
   "cell_type": "code",
   "execution_count": 18,
   "metadata": {},
   "outputs": [
    {
     "data": {
      "text/html": [
       "<div>\n",
       "<style scoped>\n",
       "    .dataframe tbody tr th:only-of-type {\n",
       "        vertical-align: middle;\n",
       "    }\n",
       "\n",
       "    .dataframe tbody tr th {\n",
       "        vertical-align: top;\n",
       "    }\n",
       "\n",
       "    .dataframe thead th {\n",
       "        text-align: right;\n",
       "    }\n",
       "</style>\n",
       "<table border=\"1\" class=\"dataframe\">\n",
       "  <thead>\n",
       "    <tr style=\"text-align: right;\">\n",
       "      <th></th>\n",
       "      <th>ZIP</th>\n",
       "      <th>Number of returns &gt;75k</th>\n",
       "    </tr>\n",
       "  </thead>\n",
       "  <tbody>\n",
       "    <tr>\n",
       "      <th>19</th>\n",
       "      <td>10023</td>\n",
       "      <td>21990</td>\n",
       "    </tr>\n",
       "    <tr>\n",
       "      <th>71</th>\n",
       "      <td>11201</td>\n",
       "      <td>20820</td>\n",
       "    </tr>\n",
       "    <tr>\n",
       "      <th>21</th>\n",
       "      <td>10025</td>\n",
       "      <td>20660</td>\n",
       "    </tr>\n",
       "    <tr>\n",
       "      <th>38</th>\n",
       "      <td>10128</td>\n",
       "      <td>19380</td>\n",
       "    </tr>\n",
       "    <tr>\n",
       "      <th>13</th>\n",
       "      <td>10016</td>\n",
       "      <td>19140</td>\n",
       "    </tr>\n",
       "    <tr>\n",
       "      <th>...</th>\n",
       "      <td>...</td>\n",
       "      <td>...</td>\n",
       "    </tr>\n",
       "    <tr>\n",
       "      <th>120</th>\n",
       "      <td>11693</td>\n",
       "      <td>1490</td>\n",
       "    </tr>\n",
       "    <tr>\n",
       "      <th>119</th>\n",
       "      <td>11692</td>\n",
       "      <td>1400</td>\n",
       "    </tr>\n",
       "    <tr>\n",
       "      <th>54</th>\n",
       "      <td>10459</td>\n",
       "      <td>1340</td>\n",
       "    </tr>\n",
       "    <tr>\n",
       "      <th>51</th>\n",
       "      <td>10455</td>\n",
       "      <td>1090</td>\n",
       "    </tr>\n",
       "    <tr>\n",
       "      <th>50</th>\n",
       "      <td>10454</td>\n",
       "      <td>890</td>\n",
       "    </tr>\n",
       "  </tbody>\n",
       "</table>\n",
       "<p>122 rows × 2 columns</p>\n",
       "</div>"
      ],
      "text/plain": [
       "       ZIP  Number of returns >75k\n",
       "19   10023                   21990\n",
       "71   11201                   20820\n",
       "21   10025                   20660\n",
       "38   10128                   19380\n",
       "13   10016                   19140\n",
       "..     ...                     ...\n",
       "120  11693                    1490\n",
       "119  11692                    1400\n",
       "54   10459                    1340\n",
       "51   10455                    1090\n",
       "50   10454                     890\n",
       "\n",
       "[122 rows x 2 columns]"
      ]
     },
     "execution_count": 18,
     "metadata": {},
     "output_type": "execute_result"
    }
   ],
   "source": [
    "counts_zip = over_75.groupby(['ZIP']).agg({'Number of returns':np.sum}).reset_index()\n",
    "\n",
    "counts_zip['Number of returns >75k'] = counts_zip['Number of returns'].astype(int)\n",
    "counts_zip.drop('Number of returns',axis=1, inplace=True)\n",
    "counts_sorted = counts_zip.sort_values(by='Number of returns >75k', ascending=False)\n",
    "counts_sorted"
   ]
  },
  {
   "cell_type": "code",
   "execution_count": 19,
   "metadata": {},
   "outputs": [],
   "source": [
    "# subset MTA station info to keep only needed for combining with IRS agg\n",
    "subset_station = station_info[['zip_code','Borough']]"
   ]
  },
  {
   "cell_type": "code",
   "execution_count": 20,
   "metadata": {},
   "outputs": [],
   "source": [
    "station_zip = subset_station.groupby(['zip_code','Borough']).count().reset_index()\n"
   ]
  },
  {
   "cell_type": "code",
   "execution_count": 21,
   "metadata": {},
   "outputs": [],
   "source": [
    "## merge >75k return counts with station counts by zip code\n",
    "combo = pd.merge(counts_sorted, station_zip, how='left', left_on='ZIP', right_on='zip_code')\n"
   ]
  },
  {
   "cell_type": "code",
   "execution_count": 22,
   "metadata": {},
   "outputs": [
    {
     "data": {
      "text/html": [
       "<div>\n",
       "<style scoped>\n",
       "    .dataframe tbody tr th:only-of-type {\n",
       "        vertical-align: middle;\n",
       "    }\n",
       "\n",
       "    .dataframe tbody tr th {\n",
       "        vertical-align: top;\n",
       "    }\n",
       "\n",
       "    .dataframe thead th {\n",
       "        text-align: right;\n",
       "    }\n",
       "</style>\n",
       "<table border=\"1\" class=\"dataframe\">\n",
       "  <thead>\n",
       "    <tr style=\"text-align: right;\">\n",
       "      <th></th>\n",
       "      <th>ZIP</th>\n",
       "      <th>Number of returns &gt;75k</th>\n",
       "      <th>zip_code</th>\n",
       "      <th>Borough</th>\n",
       "    </tr>\n",
       "  </thead>\n",
       "  <tbody>\n",
       "    <tr>\n",
       "      <th>0</th>\n",
       "      <td>10023</td>\n",
       "      <td>21990</td>\n",
       "      <td>10023</td>\n",
       "      <td>M</td>\n",
       "    </tr>\n",
       "    <tr>\n",
       "      <th>1</th>\n",
       "      <td>11201</td>\n",
       "      <td>20820</td>\n",
       "      <td>11201</td>\n",
       "      <td>Bk</td>\n",
       "    </tr>\n",
       "    <tr>\n",
       "      <th>2</th>\n",
       "      <td>10025</td>\n",
       "      <td>20660</td>\n",
       "      <td>10025</td>\n",
       "      <td>M</td>\n",
       "    </tr>\n",
       "    <tr>\n",
       "      <th>3</th>\n",
       "      <td>10128</td>\n",
       "      <td>19380</td>\n",
       "      <td>10128</td>\n",
       "      <td>M</td>\n",
       "    </tr>\n",
       "    <tr>\n",
       "      <th>4</th>\n",
       "      <td>10016</td>\n",
       "      <td>19140</td>\n",
       "      <td>10016</td>\n",
       "      <td>M</td>\n",
       "    </tr>\n",
       "    <tr>\n",
       "      <th>...</th>\n",
       "      <td>...</td>\n",
       "      <td>...</td>\n",
       "      <td>...</td>\n",
       "      <td>...</td>\n",
       "    </tr>\n",
       "    <tr>\n",
       "      <th>119</th>\n",
       "      <td>11693</td>\n",
       "      <td>1490</td>\n",
       "      <td>11693</td>\n",
       "      <td>Q</td>\n",
       "    </tr>\n",
       "    <tr>\n",
       "      <th>120</th>\n",
       "      <td>11692</td>\n",
       "      <td>1400</td>\n",
       "      <td>11692</td>\n",
       "      <td>Q</td>\n",
       "    </tr>\n",
       "    <tr>\n",
       "      <th>121</th>\n",
       "      <td>10459</td>\n",
       "      <td>1340</td>\n",
       "      <td>10459</td>\n",
       "      <td>Bx</td>\n",
       "    </tr>\n",
       "    <tr>\n",
       "      <th>122</th>\n",
       "      <td>10455</td>\n",
       "      <td>1090</td>\n",
       "      <td>10455</td>\n",
       "      <td>Bx</td>\n",
       "    </tr>\n",
       "    <tr>\n",
       "      <th>123</th>\n",
       "      <td>10454</td>\n",
       "      <td>890</td>\n",
       "      <td>10454</td>\n",
       "      <td>Bx</td>\n",
       "    </tr>\n",
       "  </tbody>\n",
       "</table>\n",
       "<p>124 rows × 4 columns</p>\n",
       "</div>"
      ],
      "text/plain": [
       "       ZIP  Number of returns >75k zip_code Borough\n",
       "0    10023                   21990    10023       M\n",
       "1    11201                   20820    11201      Bk\n",
       "2    10025                   20660    10025       M\n",
       "3    10128                   19380    10128       M\n",
       "4    10016                   19140    10016       M\n",
       "..     ...                     ...      ...     ...\n",
       "119  11693                    1490    11693       Q\n",
       "120  11692                    1400    11692       Q\n",
       "121  10459                    1340    10459      Bx\n",
       "122  10455                    1090    10455      Bx\n",
       "123  10454                     890    10454      Bx\n",
       "\n",
       "[124 rows x 4 columns]"
      ]
     },
     "execution_count": 22,
     "metadata": {},
     "output_type": "execute_result"
    }
   ],
   "source": [
    "combo_sorted = combo.sort_values(by='Number of returns >75k', ascending=False)\n",
    "combo_sorted"
   ]
  },
  {
   "cell_type": "code",
   "execution_count": 23,
   "metadata": {},
   "outputs": [],
   "source": [
    "# FINAL OUTPUT\n",
    "\n",
    "combo.to_csv('station_zip_irs_counts.csv', index=False)"
   ]
  },
  {
   "cell_type": "code",
   "execution_count": null,
   "metadata": {},
   "outputs": [],
   "source": []
  }
 ],
 "metadata": {
  "kernelspec": {
   "display_name": "Python 3",
   "language": "python",
   "name": "python3"
  },
  "language_info": {
   "codemirror_mode": {
    "name": "ipython",
    "version": 3
   },
   "file_extension": ".py",
   "mimetype": "text/x-python",
   "name": "python",
   "nbconvert_exporter": "python",
   "pygments_lexer": "ipython3",
   "version": "3.8.5"
  }
 },
 "nbformat": 4,
 "nbformat_minor": 4
}
