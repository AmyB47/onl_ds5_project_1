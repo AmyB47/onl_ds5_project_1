{
 "cells": [
  {
   "cell_type": "code",
   "execution_count": 1,
   "metadata": {},
   "outputs": [],
   "source": [
    "import pandas as pd\n",
    "%matplotlib inline\n",
    "import seaborn as sns"
   ]
  },
  {
   "cell_type": "markdown",
   "metadata": {},
   "source": [
    "### Import data"
   ]
  },
  {
   "cell_type": "code",
   "execution_count": 2,
   "metadata": {},
   "outputs": [],
   "source": [
    "mta_2018_df = pd.read_pickle('mta_2018')"
   ]
  },
  {
   "cell_type": "code",
   "execution_count": 3,
   "metadata": {},
   "outputs": [],
   "source": [
    "# reset mta data index\n",
    "mta_2018_df.reset_index(drop=True,inplace=True)\n",
    "\n",
    "# rename column EXITS\n",
    "mta_2018_df.rename(columns={'EXITS                                                               ':'EXITS'},inplace=True)"
   ]
  },
  {
   "cell_type": "code",
   "execution_count": null,
   "metadata": {},
   "outputs": [],
   "source": []
  },
  {
   "cell_type": "markdown",
   "metadata": {},
   "source": [
    "### Find entries for each row"
   ]
  },
  {
   "cell_type": "code",
   "execution_count": 4,
   "metadata": {},
   "outputs": [],
   "source": [
    "# clean ENTRIES/EXITS as they are cumulative data\n",
    "mta_2018_df['entries'] = mta_2018_df.ENTRIES.diff()\n",
    "mta_2018_df['exits'] = mta_2018_df.EXITS.diff()"
   ]
  },
  {
   "cell_type": "code",
   "execution_count": 5,
   "metadata": {},
   "outputs": [
    {
     "data": {
      "text/html": [
       "<div>\n",
       "<style scoped>\n",
       "    .dataframe tbody tr th:only-of-type {\n",
       "        vertical-align: middle;\n",
       "    }\n",
       "\n",
       "    .dataframe tbody tr th {\n",
       "        vertical-align: top;\n",
       "    }\n",
       "\n",
       "    .dataframe thead th {\n",
       "        text-align: right;\n",
       "    }\n",
       "</style>\n",
       "<table border=\"1\" class=\"dataframe\">\n",
       "  <thead>\n",
       "    <tr style=\"text-align: right;\">\n",
       "      <th></th>\n",
       "      <th>C/A</th>\n",
       "      <th>UNIT</th>\n",
       "      <th>SCP</th>\n",
       "      <th>STATION</th>\n",
       "      <th>LINENAME</th>\n",
       "      <th>DIVISION</th>\n",
       "      <th>DATE</th>\n",
       "      <th>TIME</th>\n",
       "      <th>DESC</th>\n",
       "      <th>ENTRIES</th>\n",
       "      <th>EXITS</th>\n",
       "      <th>entries</th>\n",
       "      <th>exits</th>\n",
       "    </tr>\n",
       "  </thead>\n",
       "  <tbody>\n",
       "    <tr>\n",
       "      <th>0</th>\n",
       "      <td>A002</td>\n",
       "      <td>R051</td>\n",
       "      <td>02-00-00</td>\n",
       "      <td>59 ST</td>\n",
       "      <td>NQR456W</td>\n",
       "      <td>BMT</td>\n",
       "      <td>05/12/2018</td>\n",
       "      <td>00:00:00</td>\n",
       "      <td>REGULAR</td>\n",
       "      <td>6616743</td>\n",
       "      <td>2242108</td>\n",
       "      <td>NaN</td>\n",
       "      <td>NaN</td>\n",
       "    </tr>\n",
       "    <tr>\n",
       "      <th>1</th>\n",
       "      <td>A002</td>\n",
       "      <td>R051</td>\n",
       "      <td>02-00-00</td>\n",
       "      <td>59 ST</td>\n",
       "      <td>NQR456W</td>\n",
       "      <td>BMT</td>\n",
       "      <td>05/12/2018</td>\n",
       "      <td>04:00:00</td>\n",
       "      <td>REGULAR</td>\n",
       "      <td>6616762</td>\n",
       "      <td>2242113</td>\n",
       "      <td>19.0</td>\n",
       "      <td>5.0</td>\n",
       "    </tr>\n",
       "    <tr>\n",
       "      <th>2</th>\n",
       "      <td>A002</td>\n",
       "      <td>R051</td>\n",
       "      <td>02-00-00</td>\n",
       "      <td>59 ST</td>\n",
       "      <td>NQR456W</td>\n",
       "      <td>BMT</td>\n",
       "      <td>05/12/2018</td>\n",
       "      <td>08:00:00</td>\n",
       "      <td>REGULAR</td>\n",
       "      <td>6616781</td>\n",
       "      <td>2242144</td>\n",
       "      <td>19.0</td>\n",
       "      <td>31.0</td>\n",
       "    </tr>\n",
       "    <tr>\n",
       "      <th>3</th>\n",
       "      <td>A002</td>\n",
       "      <td>R051</td>\n",
       "      <td>02-00-00</td>\n",
       "      <td>59 ST</td>\n",
       "      <td>NQR456W</td>\n",
       "      <td>BMT</td>\n",
       "      <td>05/12/2018</td>\n",
       "      <td>12:00:00</td>\n",
       "      <td>REGULAR</td>\n",
       "      <td>6616886</td>\n",
       "      <td>2242229</td>\n",
       "      <td>105.0</td>\n",
       "      <td>85.0</td>\n",
       "    </tr>\n",
       "    <tr>\n",
       "      <th>4</th>\n",
       "      <td>A002</td>\n",
       "      <td>R051</td>\n",
       "      <td>02-00-00</td>\n",
       "      <td>59 ST</td>\n",
       "      <td>NQR456W</td>\n",
       "      <td>BMT</td>\n",
       "      <td>05/12/2018</td>\n",
       "      <td>16:00:00</td>\n",
       "      <td>REGULAR</td>\n",
       "      <td>6617105</td>\n",
       "      <td>2242278</td>\n",
       "      <td>219.0</td>\n",
       "      <td>49.0</td>\n",
       "    </tr>\n",
       "  </tbody>\n",
       "</table>\n",
       "</div>"
      ],
      "text/plain": [
       "    C/A  UNIT       SCP STATION LINENAME DIVISION        DATE      TIME  \\\n",
       "0  A002  R051  02-00-00   59 ST  NQR456W      BMT  05/12/2018  00:00:00   \n",
       "1  A002  R051  02-00-00   59 ST  NQR456W      BMT  05/12/2018  04:00:00   \n",
       "2  A002  R051  02-00-00   59 ST  NQR456W      BMT  05/12/2018  08:00:00   \n",
       "3  A002  R051  02-00-00   59 ST  NQR456W      BMT  05/12/2018  12:00:00   \n",
       "4  A002  R051  02-00-00   59 ST  NQR456W      BMT  05/12/2018  16:00:00   \n",
       "\n",
       "      DESC  ENTRIES    EXITS  entries  exits  \n",
       "0  REGULAR  6616743  2242108      NaN    NaN  \n",
       "1  REGULAR  6616762  2242113     19.0    5.0  \n",
       "2  REGULAR  6616781  2242144     19.0   31.0  \n",
       "3  REGULAR  6616886  2242229    105.0   85.0  \n",
       "4  REGULAR  6617105  2242278    219.0   49.0  "
      ]
     },
     "execution_count": 5,
     "metadata": {},
     "output_type": "execute_result"
    }
   ],
   "source": [
    "mta_2018_df.head()"
   ]
  },
  {
   "cell_type": "code",
   "execution_count": null,
   "metadata": {},
   "outputs": [],
   "source": []
  },
  {
   "cell_type": "markdown",
   "metadata": {},
   "source": [
    "### Using Penn Station data for sanity check\n",
    "(whether the order of magnitude of the numbers make sense)\n",
    "\n",
    "can just jump to the end for the plot and see if the numbers (for a single station) are consistent?"
   ]
  },
  {
   "cell_type": "code",
   "execution_count": 6,
   "metadata": {},
   "outputs": [],
   "source": [
    "# Choose penn station data\n",
    "penn_df = mta_2018_df[mta_2018_df.STATION == '34 ST-PENN STA'].iloc[1:16554]\n",
    "\n",
    "# Filter for entries between 0 and 3000\n",
    "# Outliers come from switching to next turnstiles (should be the same as dropping first rows of each turnstile)\n",
    "penn_filter = penn_df[(penn_df.entries<100000) & (penn_df.entries>0)].copy()"
   ]
  },
  {
   "cell_type": "markdown",
   "metadata": {},
   "source": [
    "Check if the value of entries make sense:"
   ]
  },
  {
   "cell_type": "code",
   "execution_count": 7,
   "metadata": {},
   "outputs": [
    {
     "data": {
      "text/plain": [
       "(1.0, 261.16173425078495, 2812.0)"
      ]
     },
     "execution_count": 7,
     "metadata": {},
     "output_type": "execute_result"
    }
   ],
   "source": [
    "penn_filter.entries.min(),penn_filter.entries.mean(),penn_filter.entries.max()"
   ]
  },
  {
   "cell_type": "code",
   "execution_count": 8,
   "metadata": {},
   "outputs": [],
   "source": [
    "# Combine DATE, TIME to DateTime\n",
    "penn_filter['DateTime'] = pd.to_datetime(penn_filter['DATE'] + \" \" + penn_filter['TIME'])\n",
    "penn_filter.drop(columns=['DATE','TIME'],inplace=True)"
   ]
  },
  {
   "cell_type": "code",
   "execution_count": 9,
   "metadata": {},
   "outputs": [],
   "source": [
    "# Find time_span (hr) between each row\n",
    "# Note that most are 4.0 hrs but some are not\n",
    "penn_filter['time_span (hr)'] = penn_filter.DateTime.diff().apply(lambda x: x.total_seconds()/3600)"
   ]
  },
  {
   "cell_type": "code",
   "execution_count": 10,
   "metadata": {},
   "outputs": [],
   "source": [
    "# Find ave_entries (entries per hour)\n",
    "penn_filter['avg_entries'] = penn_filter['entries']/ penn_filter['time_span (hr)']"
   ]
  },
  {
   "cell_type": "code",
   "execution_count": 11,
   "metadata": {},
   "outputs": [],
   "source": [
    "# Find avg_entries (entries per hour)\n",
    "penn_filter['avg_entries'] = penn_filter['entries']/ penn_filter['time_span (hr)']"
   ]
  },
  {
   "cell_type": "code",
   "execution_count": 12,
   "metadata": {},
   "outputs": [
    {
     "data": {
      "text/plain": [
       "(-0.76875, 703.0)"
      ]
     },
     "execution_count": 12,
     "metadata": {},
     "output_type": "execute_result"
    }
   ],
   "source": [
    "# Check if values of avg_entries make sense\n",
    "# Found negative values: happens when switching to next turnsiles\n",
    "penn_filter['avg_entries'].min(), penn_filter['avg_entries'].max()"
   ]
  },
  {
   "cell_type": "code",
   "execution_count": 13,
   "metadata": {},
   "outputs": [],
   "source": [
    "# Filter out the negative values (should be the same as dropping first value of each turnstile on a new day)\n",
    "penn_filter2 = penn_filter[penn_filter.avg_entries >= 0].copy()"
   ]
  },
  {
   "cell_type": "code",
   "execution_count": 14,
   "metadata": {},
   "outputs": [],
   "source": [
    "# Find median_hour (center of the time slot)\n",
    "# Corresponds to 2am, 6am, 10am, 14=2pm,...\n",
    "penn_filter2['median_hour'] = (penn_filter['DateTime'] \\\n",
    "                              - (pd.Timedelta(seconds=penn_filter.iloc[1]['time_span (hr)']*3600)/2)).dt.hour"
   ]
  },
  {
   "cell_type": "code",
   "execution_count": 15,
   "metadata": {},
   "outputs": [],
   "source": [
    "# Create day_of_week column\n",
    "penn_filter2['day_of_week'] = penn_filter2.DateTime.apply(lambda x: x.weekday())\n",
    "# Create Unique Daily ID for each turnstile\n",
    "penn_filter2['UNIQUEID'] = penn_filter2['STATION'] + '_' + penn_filter2['UNIT'] + '_' + penn_filter2['C/A'] \\\n",
    "+ '_' + penn_filter2['SCP']"
   ]
  },
  {
   "cell_type": "code",
   "execution_count": 16,
   "metadata": {},
   "outputs": [],
   "source": [
    "penn_filter2.drop(columns=['C/A','UNIT','SCP','LINENAME','DESC','ENTRIES','EXITS'],inplace=True)"
   ]
  },
  {
   "cell_type": "code",
   "execution_count": 17,
   "metadata": {},
   "outputs": [
    {
     "data": {
      "text/html": [
       "<div>\n",
       "<style scoped>\n",
       "    .dataframe tbody tr th:only-of-type {\n",
       "        vertical-align: middle;\n",
       "    }\n",
       "\n",
       "    .dataframe tbody tr th {\n",
       "        vertical-align: top;\n",
       "    }\n",
       "\n",
       "    .dataframe thead th {\n",
       "        text-align: right;\n",
       "    }\n",
       "</style>\n",
       "<table border=\"1\" class=\"dataframe\">\n",
       "  <thead>\n",
       "    <tr style=\"text-align: right;\">\n",
       "      <th></th>\n",
       "      <th>STATION</th>\n",
       "      <th>DIVISION</th>\n",
       "      <th>entries</th>\n",
       "      <th>exits</th>\n",
       "      <th>DateTime</th>\n",
       "      <th>time_span (hr)</th>\n",
       "      <th>avg_entries</th>\n",
       "      <th>median_hour</th>\n",
       "      <th>day_of_week</th>\n",
       "      <th>UNIQUEID</th>\n",
       "    </tr>\n",
       "  </thead>\n",
       "  <tbody>\n",
       "    <tr>\n",
       "      <th>50310</th>\n",
       "      <td>34 ST-PENN STA</td>\n",
       "      <td>IND</td>\n",
       "      <td>28.0</td>\n",
       "      <td>43.0</td>\n",
       "      <td>2018-05-12 08:00:00</td>\n",
       "      <td>4.0</td>\n",
       "      <td>7.00</td>\n",
       "      <td>6</td>\n",
       "      <td>5</td>\n",
       "      <td>34 ST-PENN STA_R012_N067_00-00-00</td>\n",
       "    </tr>\n",
       "    <tr>\n",
       "      <th>50311</th>\n",
       "      <td>34 ST-PENN STA</td>\n",
       "      <td>IND</td>\n",
       "      <td>95.0</td>\n",
       "      <td>116.0</td>\n",
       "      <td>2018-05-12 12:00:00</td>\n",
       "      <td>4.0</td>\n",
       "      <td>23.75</td>\n",
       "      <td>10</td>\n",
       "      <td>5</td>\n",
       "      <td>34 ST-PENN STA_R012_N067_00-00-00</td>\n",
       "    </tr>\n",
       "    <tr>\n",
       "      <th>50312</th>\n",
       "      <td>34 ST-PENN STA</td>\n",
       "      <td>IND</td>\n",
       "      <td>150.0</td>\n",
       "      <td>150.0</td>\n",
       "      <td>2018-05-12 16:00:00</td>\n",
       "      <td>4.0</td>\n",
       "      <td>37.50</td>\n",
       "      <td>14</td>\n",
       "      <td>5</td>\n",
       "      <td>34 ST-PENN STA_R012_N067_00-00-00</td>\n",
       "    </tr>\n",
       "    <tr>\n",
       "      <th>50313</th>\n",
       "      <td>34 ST-PENN STA</td>\n",
       "      <td>IND</td>\n",
       "      <td>105.0</td>\n",
       "      <td>157.0</td>\n",
       "      <td>2018-05-12 20:00:00</td>\n",
       "      <td>4.0</td>\n",
       "      <td>26.25</td>\n",
       "      <td>18</td>\n",
       "      <td>5</td>\n",
       "      <td>34 ST-PENN STA_R012_N067_00-00-00</td>\n",
       "    </tr>\n",
       "    <tr>\n",
       "      <th>50314</th>\n",
       "      <td>34 ST-PENN STA</td>\n",
       "      <td>IND</td>\n",
       "      <td>41.0</td>\n",
       "      <td>56.0</td>\n",
       "      <td>2018-05-13 00:00:00</td>\n",
       "      <td>4.0</td>\n",
       "      <td>10.25</td>\n",
       "      <td>22</td>\n",
       "      <td>6</td>\n",
       "      <td>34 ST-PENN STA_R012_N067_00-00-00</td>\n",
       "    </tr>\n",
       "    <tr>\n",
       "      <th>...</th>\n",
       "      <td>...</td>\n",
       "      <td>...</td>\n",
       "      <td>...</td>\n",
       "      <td>...</td>\n",
       "      <td>...</td>\n",
       "      <td>...</td>\n",
       "      <td>...</td>\n",
       "      <td>...</td>\n",
       "      <td>...</td>\n",
       "      <td>...</td>\n",
       "    </tr>\n",
       "    <tr>\n",
       "      <th>722622</th>\n",
       "      <td>34 ST-PENN STA</td>\n",
       "      <td>IRT</td>\n",
       "      <td>74.0</td>\n",
       "      <td>43.0</td>\n",
       "      <td>2018-06-08 02:00:00</td>\n",
       "      <td>4.0</td>\n",
       "      <td>18.50</td>\n",
       "      <td>0</td>\n",
       "      <td>4</td>\n",
       "      <td>34 ST-PENN STA_R293_R142_01-06-01</td>\n",
       "    </tr>\n",
       "    <tr>\n",
       "      <th>722624</th>\n",
       "      <td>34 ST-PENN STA</td>\n",
       "      <td>IRT</td>\n",
       "      <td>100.0</td>\n",
       "      <td>498.0</td>\n",
       "      <td>2018-06-08 10:00:00</td>\n",
       "      <td>8.0</td>\n",
       "      <td>12.50</td>\n",
       "      <td>8</td>\n",
       "      <td>4</td>\n",
       "      <td>34 ST-PENN STA_R293_R142_01-06-01</td>\n",
       "    </tr>\n",
       "    <tr>\n",
       "      <th>722625</th>\n",
       "      <td>34 ST-PENN STA</td>\n",
       "      <td>IRT</td>\n",
       "      <td>166.0</td>\n",
       "      <td>283.0</td>\n",
       "      <td>2018-06-08 14:00:00</td>\n",
       "      <td>4.0</td>\n",
       "      <td>41.50</td>\n",
       "      <td>12</td>\n",
       "      <td>4</td>\n",
       "      <td>34 ST-PENN STA_R293_R142_01-06-01</td>\n",
       "    </tr>\n",
       "    <tr>\n",
       "      <th>722626</th>\n",
       "      <td>34 ST-PENN STA</td>\n",
       "      <td>IRT</td>\n",
       "      <td>244.0</td>\n",
       "      <td>416.0</td>\n",
       "      <td>2018-06-08 18:00:00</td>\n",
       "      <td>4.0</td>\n",
       "      <td>61.00</td>\n",
       "      <td>16</td>\n",
       "      <td>4</td>\n",
       "      <td>34 ST-PENN STA_R293_R142_01-06-01</td>\n",
       "    </tr>\n",
       "    <tr>\n",
       "      <th>722627</th>\n",
       "      <td>34 ST-PENN STA</td>\n",
       "      <td>IRT</td>\n",
       "      <td>194.0</td>\n",
       "      <td>191.0</td>\n",
       "      <td>2018-06-08 22:00:00</td>\n",
       "      <td>4.0</td>\n",
       "      <td>48.50</td>\n",
       "      <td>20</td>\n",
       "      <td>4</td>\n",
       "      <td>34 ST-PENN STA_R293_R142_01-06-01</td>\n",
       "    </tr>\n",
       "  </tbody>\n",
       "</table>\n",
       "<p>14592 rows × 10 columns</p>\n",
       "</div>"
      ],
      "text/plain": [
       "               STATION DIVISION  entries  exits            DateTime  \\\n",
       "50310   34 ST-PENN STA      IND     28.0   43.0 2018-05-12 08:00:00   \n",
       "50311   34 ST-PENN STA      IND     95.0  116.0 2018-05-12 12:00:00   \n",
       "50312   34 ST-PENN STA      IND    150.0  150.0 2018-05-12 16:00:00   \n",
       "50313   34 ST-PENN STA      IND    105.0  157.0 2018-05-12 20:00:00   \n",
       "50314   34 ST-PENN STA      IND     41.0   56.0 2018-05-13 00:00:00   \n",
       "...                ...      ...      ...    ...                 ...   \n",
       "722622  34 ST-PENN STA      IRT     74.0   43.0 2018-06-08 02:00:00   \n",
       "722624  34 ST-PENN STA      IRT    100.0  498.0 2018-06-08 10:00:00   \n",
       "722625  34 ST-PENN STA      IRT    166.0  283.0 2018-06-08 14:00:00   \n",
       "722626  34 ST-PENN STA      IRT    244.0  416.0 2018-06-08 18:00:00   \n",
       "722627  34 ST-PENN STA      IRT    194.0  191.0 2018-06-08 22:00:00   \n",
       "\n",
       "        time_span (hr)  avg_entries  median_hour  day_of_week  \\\n",
       "50310              4.0         7.00            6            5   \n",
       "50311              4.0        23.75           10            5   \n",
       "50312              4.0        37.50           14            5   \n",
       "50313              4.0        26.25           18            5   \n",
       "50314              4.0        10.25           22            6   \n",
       "...                ...          ...          ...          ...   \n",
       "722622             4.0        18.50            0            4   \n",
       "722624             8.0        12.50            8            4   \n",
       "722625             4.0        41.50           12            4   \n",
       "722626             4.0        61.00           16            4   \n",
       "722627             4.0        48.50           20            4   \n",
       "\n",
       "                                 UNIQUEID  \n",
       "50310   34 ST-PENN STA_R012_N067_00-00-00  \n",
       "50311   34 ST-PENN STA_R012_N067_00-00-00  \n",
       "50312   34 ST-PENN STA_R012_N067_00-00-00  \n",
       "50313   34 ST-PENN STA_R012_N067_00-00-00  \n",
       "50314   34 ST-PENN STA_R012_N067_00-00-00  \n",
       "...                                   ...  \n",
       "722622  34 ST-PENN STA_R293_R142_01-06-01  \n",
       "722624  34 ST-PENN STA_R293_R142_01-06-01  \n",
       "722625  34 ST-PENN STA_R293_R142_01-06-01  \n",
       "722626  34 ST-PENN STA_R293_R142_01-06-01  \n",
       "722627  34 ST-PENN STA_R293_R142_01-06-01  \n",
       "\n",
       "[14592 rows x 10 columns]"
      ]
     },
     "execution_count": 17,
     "metadata": {},
     "output_type": "execute_result"
    }
   ],
   "source": [
    "penn_filter2"
   ]
  },
  {
   "cell_type": "code",
   "execution_count": 18,
   "metadata": {},
   "outputs": [
    {
     "data": {
      "text/plain": [
       "95"
      ]
     },
     "execution_count": 18,
     "metadata": {},
     "output_type": "execute_result"
    }
   ],
   "source": [
    "# There are 95 turnstiles in Penn station?\n",
    "penn_filter2.UNIQUEID.nunique()"
   ]
  },
  {
   "cell_type": "code",
   "execution_count": 19,
   "metadata": {},
   "outputs": [
    {
     "data": {
      "text/html": [
       "<div>\n",
       "<style scoped>\n",
       "    .dataframe tbody tr th:only-of-type {\n",
       "        vertical-align: middle;\n",
       "    }\n",
       "\n",
       "    .dataframe tbody tr th {\n",
       "        vertical-align: top;\n",
       "    }\n",
       "\n",
       "    .dataframe thead th {\n",
       "        text-align: right;\n",
       "    }\n",
       "</style>\n",
       "<table border=\"1\" class=\"dataframe\">\n",
       "  <thead>\n",
       "    <tr style=\"text-align: right;\">\n",
       "      <th></th>\n",
       "      <th>STATION</th>\n",
       "      <th>DIVISION</th>\n",
       "      <th>entries</th>\n",
       "      <th>exits</th>\n",
       "      <th>DateTime</th>\n",
       "      <th>time_span (hr)</th>\n",
       "      <th>avg_entries</th>\n",
       "      <th>median_hour</th>\n",
       "      <th>day_of_week</th>\n",
       "      <th>UNIQUEID</th>\n",
       "    </tr>\n",
       "  </thead>\n",
       "  <tbody>\n",
       "    <tr>\n",
       "      <th>129862</th>\n",
       "      <td>34 ST-PENN STA</td>\n",
       "      <td>IRT</td>\n",
       "      <td>2812.0</td>\n",
       "      <td>71.0</td>\n",
       "      <td>2018-05-16 10:00:00</td>\n",
       "      <td>4.0</td>\n",
       "      <td>703.000000</td>\n",
       "      <td>8</td>\n",
       "      <td>2</td>\n",
       "      <td>34 ST-PENN STA_R293_R138_00-00-03</td>\n",
       "    </tr>\n",
       "    <tr>\n",
       "      <th>129868</th>\n",
       "      <td>34 ST-PENN STA</td>\n",
       "      <td>IRT</td>\n",
       "      <td>2683.0</td>\n",
       "      <td>74.0</td>\n",
       "      <td>2018-05-17 10:00:00</td>\n",
       "      <td>4.0</td>\n",
       "      <td>670.750000</td>\n",
       "      <td>8</td>\n",
       "      <td>3</td>\n",
       "      <td>34 ST-PENN STA_R293_R138_00-00-03</td>\n",
       "    </tr>\n",
       "    <tr>\n",
       "      <th>721383</th>\n",
       "      <td>34 ST-PENN STA</td>\n",
       "      <td>IRT</td>\n",
       "      <td>2642.0</td>\n",
       "      <td>106.0</td>\n",
       "      <td>2018-06-04 10:00:00</td>\n",
       "      <td>4.0</td>\n",
       "      <td>660.500000</td>\n",
       "      <td>8</td>\n",
       "      <td>0</td>\n",
       "      <td>34 ST-PENN STA_R293_R138_00-00-03</td>\n",
       "    </tr>\n",
       "    <tr>\n",
       "      <th>721299</th>\n",
       "      <td>34 ST-PENN STA</td>\n",
       "      <td>IRT</td>\n",
       "      <td>2602.0</td>\n",
       "      <td>143.0</td>\n",
       "      <td>2018-06-04 10:00:00</td>\n",
       "      <td>4.0</td>\n",
       "      <td>650.500000</td>\n",
       "      <td>8</td>\n",
       "      <td>0</td>\n",
       "      <td>34 ST-PENN STA_R293_R138_00-00-01</td>\n",
       "    </tr>\n",
       "    <tr>\n",
       "      <th>721389</th>\n",
       "      <td>34 ST-PENN STA</td>\n",
       "      <td>IRT</td>\n",
       "      <td>2596.0</td>\n",
       "      <td>79.0</td>\n",
       "      <td>2018-06-05 10:00:00</td>\n",
       "      <td>4.0</td>\n",
       "      <td>649.000000</td>\n",
       "      <td>8</td>\n",
       "      <td>1</td>\n",
       "      <td>34 ST-PENN STA_R293_R138_00-00-03</td>\n",
       "    </tr>\n",
       "    <tr>\n",
       "      <th>...</th>\n",
       "      <td>...</td>\n",
       "      <td>...</td>\n",
       "      <td>...</td>\n",
       "      <td>...</td>\n",
       "      <td>...</td>\n",
       "      <td>...</td>\n",
       "      <td>...</td>\n",
       "      <td>...</td>\n",
       "      <td>...</td>\n",
       "      <td>...</td>\n",
       "    </tr>\n",
       "    <tr>\n",
       "      <th>327806</th>\n",
       "      <td>34 ST-PENN STA</td>\n",
       "      <td>IRT</td>\n",
       "      <td>1.0</td>\n",
       "      <td>0.0</td>\n",
       "      <td>2018-05-22 14:00:00</td>\n",
       "      <td>24.0</td>\n",
       "      <td>0.041667</td>\n",
       "      <td>12</td>\n",
       "      <td>1</td>\n",
       "      <td>34 ST-PENN STA_R293_R138_00-05-00</td>\n",
       "    </tr>\n",
       "    <tr>\n",
       "      <th>247942</th>\n",
       "      <td>34 ST-PENN STA</td>\n",
       "      <td>IND</td>\n",
       "      <td>1.0</td>\n",
       "      <td>0.0</td>\n",
       "      <td>2018-05-20 20:00:00</td>\n",
       "      <td>28.0</td>\n",
       "      <td>0.035714</td>\n",
       "      <td>18</td>\n",
       "      <td>6</td>\n",
       "      <td>34 ST-PENN STA_R012_N067_00-06-00</td>\n",
       "    </tr>\n",
       "    <tr>\n",
       "      <th>446148</th>\n",
       "      <td>34 ST-PENN STA</td>\n",
       "      <td>IND</td>\n",
       "      <td>1.0</td>\n",
       "      <td>0.0</td>\n",
       "      <td>2018-05-28 04:00:00</td>\n",
       "      <td>28.0</td>\n",
       "      <td>0.035714</td>\n",
       "      <td>2</td>\n",
       "      <td>0</td>\n",
       "      <td>34 ST-PENN STA_R012_N070_04-05-00</td>\n",
       "    </tr>\n",
       "    <tr>\n",
       "      <th>51486</th>\n",
       "      <td>34 ST-PENN STA</td>\n",
       "      <td>IND</td>\n",
       "      <td>1.0</td>\n",
       "      <td>0.0</td>\n",
       "      <td>2018-05-14 20:00:00</td>\n",
       "      <td>28.0</td>\n",
       "      <td>0.035714</td>\n",
       "      <td>18</td>\n",
       "      <td>0</td>\n",
       "      <td>34 ST-PENN STA_R012_N070_04-05-00</td>\n",
       "    </tr>\n",
       "    <tr>\n",
       "      <th>524983</th>\n",
       "      <td>34 ST-PENN STA</td>\n",
       "      <td>IRT</td>\n",
       "      <td>1.0</td>\n",
       "      <td>0.0</td>\n",
       "      <td>2018-05-28 10:00:00</td>\n",
       "      <td>36.0</td>\n",
       "      <td>0.027778</td>\n",
       "      <td>8</td>\n",
       "      <td>0</td>\n",
       "      <td>34 ST-PENN STA_R293_R138_00-05-00</td>\n",
       "    </tr>\n",
       "  </tbody>\n",
       "</table>\n",
       "<p>14592 rows × 10 columns</p>\n",
       "</div>"
      ],
      "text/plain": [
       "               STATION DIVISION  entries  exits            DateTime  \\\n",
       "129862  34 ST-PENN STA      IRT   2812.0   71.0 2018-05-16 10:00:00   \n",
       "129868  34 ST-PENN STA      IRT   2683.0   74.0 2018-05-17 10:00:00   \n",
       "721383  34 ST-PENN STA      IRT   2642.0  106.0 2018-06-04 10:00:00   \n",
       "721299  34 ST-PENN STA      IRT   2602.0  143.0 2018-06-04 10:00:00   \n",
       "721389  34 ST-PENN STA      IRT   2596.0   79.0 2018-06-05 10:00:00   \n",
       "...                ...      ...      ...    ...                 ...   \n",
       "327806  34 ST-PENN STA      IRT      1.0    0.0 2018-05-22 14:00:00   \n",
       "247942  34 ST-PENN STA      IND      1.0    0.0 2018-05-20 20:00:00   \n",
       "446148  34 ST-PENN STA      IND      1.0    0.0 2018-05-28 04:00:00   \n",
       "51486   34 ST-PENN STA      IND      1.0    0.0 2018-05-14 20:00:00   \n",
       "524983  34 ST-PENN STA      IRT      1.0    0.0 2018-05-28 10:00:00   \n",
       "\n",
       "        time_span (hr)  avg_entries  median_hour  day_of_week  \\\n",
       "129862             4.0   703.000000            8            2   \n",
       "129868             4.0   670.750000            8            3   \n",
       "721383             4.0   660.500000            8            0   \n",
       "721299             4.0   650.500000            8            0   \n",
       "721389             4.0   649.000000            8            1   \n",
       "...                ...          ...          ...          ...   \n",
       "327806            24.0     0.041667           12            1   \n",
       "247942            28.0     0.035714           18            6   \n",
       "446148            28.0     0.035714            2            0   \n",
       "51486             28.0     0.035714           18            0   \n",
       "524983            36.0     0.027778            8            0   \n",
       "\n",
       "                                 UNIQUEID  \n",
       "129862  34 ST-PENN STA_R293_R138_00-00-03  \n",
       "129868  34 ST-PENN STA_R293_R138_00-00-03  \n",
       "721383  34 ST-PENN STA_R293_R138_00-00-03  \n",
       "721299  34 ST-PENN STA_R293_R138_00-00-01  \n",
       "721389  34 ST-PENN STA_R293_R138_00-00-03  \n",
       "...                                   ...  \n",
       "327806  34 ST-PENN STA_R293_R138_00-05-00  \n",
       "247942  34 ST-PENN STA_R012_N067_00-06-00  \n",
       "446148  34 ST-PENN STA_R012_N070_04-05-00  \n",
       "51486   34 ST-PENN STA_R012_N070_04-05-00  \n",
       "524983  34 ST-PENN STA_R293_R138_00-05-00  \n",
       "\n",
       "[14592 rows x 10 columns]"
      ]
     },
     "execution_count": 19,
     "metadata": {},
     "output_type": "execute_result"
    }
   ],
   "source": [
    "penn_filter2.sort_values('avg_entries',ascending=False)"
   ]
  },
  {
   "cell_type": "code",
   "execution_count": 20,
   "metadata": {
    "scrolled": true
   },
   "outputs": [],
   "source": [
    "# Sum over all turnstiles\n",
    "penn_total = penn_filter2.groupby([\"day_of_week\",\"median_hour\"])['avg_entries'].sum().reset_index()\n",
    "# penn_total"
   ]
  },
  {
   "cell_type": "code",
   "execution_count": 21,
   "metadata": {},
   "outputs": [
    {
     "data": {
      "text/plain": [
       "35004.78947693844"
      ]
     },
     "execution_count": 21,
     "metadata": {},
     "output_type": "execute_result"
    }
   ],
   "source": [
    "penn_total.avg_entries.sum()/28"
   ]
  },
  {
   "cell_type": "code",
   "execution_count": 22,
   "metadata": {},
   "outputs": [
    {
     "data": {
      "text/plain": [
       "35004.789476938444"
      ]
     },
     "execution_count": 22,
     "metadata": {},
     "output_type": "execute_result"
    }
   ],
   "source": [
    "# Compare group station and sum\n",
    "penn_total_test = penn_filter2.groupby([\"STATION\"])['avg_entries'].sum().reset_index()\n",
    "penn_total_test.avg_entries.sum()/28"
   ]
  },
  {
   "cell_type": "code",
   "execution_count": 23,
   "metadata": {},
   "outputs": [
    {
     "data": {
      "text/html": [
       "<div>\n",
       "<style scoped>\n",
       "    .dataframe tbody tr th:only-of-type {\n",
       "        vertical-align: middle;\n",
       "    }\n",
       "\n",
       "    .dataframe tbody tr th {\n",
       "        vertical-align: top;\n",
       "    }\n",
       "\n",
       "    .dataframe thead th {\n",
       "        text-align: right;\n",
       "    }\n",
       "</style>\n",
       "<table border=\"1\" class=\"dataframe\">\n",
       "  <thead>\n",
       "    <tr style=\"text-align: right;\">\n",
       "      <th></th>\n",
       "      <th>median_hour</th>\n",
       "      <th>avg_entries</th>\n",
       "    </tr>\n",
       "  </thead>\n",
       "  <tbody>\n",
       "    <tr>\n",
       "      <th>0</th>\n",
       "      <td>0</td>\n",
       "      <td>2383.458333</td>\n",
       "    </tr>\n",
       "    <tr>\n",
       "      <th>1</th>\n",
       "      <td>2</td>\n",
       "      <td>1533.739235</td>\n",
       "    </tr>\n",
       "    <tr>\n",
       "      <th>2</th>\n",
       "      <td>4</td>\n",
       "      <td>797.759052</td>\n",
       "    </tr>\n",
       "    <tr>\n",
       "      <th>3</th>\n",
       "      <td>6</td>\n",
       "      <td>12233.041588</td>\n",
       "    </tr>\n",
       "    <tr>\n",
       "      <th>4</th>\n",
       "      <td>8</td>\n",
       "      <td>16425.948611</td>\n",
       "    </tr>\n",
       "    <tr>\n",
       "      <th>5</th>\n",
       "      <td>10</td>\n",
       "      <td>26354.123214</td>\n",
       "    </tr>\n",
       "    <tr>\n",
       "      <th>6</th>\n",
       "      <td>12</td>\n",
       "      <td>7898.938690</td>\n",
       "    </tr>\n",
       "    <tr>\n",
       "      <th>7</th>\n",
       "      <td>14</td>\n",
       "      <td>18184.689937</td>\n",
       "    </tr>\n",
       "    <tr>\n",
       "      <th>8</th>\n",
       "      <td>15</td>\n",
       "      <td>1803.601191</td>\n",
       "    </tr>\n",
       "    <tr>\n",
       "      <th>9</th>\n",
       "      <td>16</td>\n",
       "      <td>9496.880815</td>\n",
       "    </tr>\n",
       "    <tr>\n",
       "      <th>10</th>\n",
       "      <td>17</td>\n",
       "      <td>1014.856021</td>\n",
       "    </tr>\n",
       "    <tr>\n",
       "      <th>11</th>\n",
       "      <td>18</td>\n",
       "      <td>27977.960588</td>\n",
       "    </tr>\n",
       "    <tr>\n",
       "      <th>12</th>\n",
       "      <td>20</td>\n",
       "      <td>7525.409772</td>\n",
       "    </tr>\n",
       "    <tr>\n",
       "      <th>13</th>\n",
       "      <td>22</td>\n",
       "      <td>10802.202778</td>\n",
       "    </tr>\n",
       "  </tbody>\n",
       "</table>\n",
       "</div>"
      ],
      "text/plain": [
       "    median_hour   avg_entries\n",
       "0             0   2383.458333\n",
       "1             2   1533.739235\n",
       "2             4    797.759052\n",
       "3             6  12233.041588\n",
       "4             8  16425.948611\n",
       "5            10  26354.123214\n",
       "6            12   7898.938690\n",
       "7            14  18184.689937\n",
       "8            15   1803.601191\n",
       "9            16   9496.880815\n",
       "10           17   1014.856021\n",
       "11           18  27977.960588\n",
       "12           20   7525.409772\n",
       "13           22  10802.202778"
      ]
     },
     "execution_count": 23,
     "metadata": {},
     "output_type": "execute_result"
    }
   ],
   "source": [
    "# Average over day\n",
    "penn_total_byday = penn_total.groupby(\"median_hour\")['avg_entries'].mean().reset_index()\n",
    "penn_total_byday"
   ]
  },
  {
   "cell_type": "code",
   "execution_count": 24,
   "metadata": {
    "scrolled": true
   },
   "outputs": [
    {
     "data": {
      "text/plain": [
       "Text(0, 0.5, 'total entries')"
      ]
     },
     "execution_count": 24,
     "metadata": {},
     "output_type": "execute_result"
    },
    {
     "data": {
      "image/png": "[encoded data removed]",
      "text/plain": [
       "<Figure size 432x288 with 1 Axes>"
      ]
     },
     "metadata": {
      "needs_background": "light"
     },
     "output_type": "display_data"
    }
   ],
   "source": [
    "# Barplot showing entries of the hour in a day\n",
    "ax = sns.barplot(x='median_hour', y= 'avg_entries', data = penn_total_byday)\n",
    "ax.set_title('penn station')\n",
    "ax.set_xlabel('time')\n",
    "ax.set_ylabel('total entries')"
   ]
  },
  {
   "cell_type": "code",
   "execution_count": 25,
   "metadata": {},
   "outputs": [
    {
     "data": {
      "text/plain": [
       "Text(0, 0.5, 'total entries')"
      ]
     },
     "execution_count": 25,
     "metadata": {},
     "output_type": "execute_result"
    },
    {
     "data": {
      "image/png": "[encoded data removed]",
      "text/plain": [
       "<Figure size 432x288 with 1 Axes>"
      ]
     },
     "metadata": {
      "needs_background": "light"
     },
     "output_type": "display_data"
    }
   ],
   "source": [
    "# Same data shown in lineplot (can overlap with data from other stations)\n",
    "ax = sns.lineplot(x='median_hour', y= 'avg_entries', data = penn_total_byday, label='penn station')\n",
    "ax.legend()\n",
    "ax.set_xlabel('time')\n",
    "ax.set_ylabel('total entries')"
   ]
  },
  {
   "cell_type": "code",
   "execution_count": null,
   "metadata": {},
   "outputs": [],
   "source": []
  },
  {
   "cell_type": "code",
   "execution_count": 26,
   "metadata": {},
   "outputs": [
    {
     "data": {
      "text/html": [
       "<div>\n",
       "<style scoped>\n",
       "    .dataframe tbody tr th:only-of-type {\n",
       "        vertical-align: middle;\n",
       "    }\n",
       "\n",
       "    .dataframe tbody tr th {\n",
       "        vertical-align: top;\n",
       "    }\n",
       "\n",
       "    .dataframe thead th {\n",
       "        text-align: right;\n",
       "    }\n",
       "</style>\n",
       "<table border=\"1\" class=\"dataframe\">\n",
       "  <thead>\n",
       "    <tr style=\"text-align: right;\">\n",
       "      <th></th>\n",
       "      <th>day_of_week</th>\n",
       "      <th>avg_entries</th>\n",
       "    </tr>\n",
       "  </thead>\n",
       "  <tbody>\n",
       "    <tr>\n",
       "      <th>0</th>\n",
       "      <td>0</td>\n",
       "      <td>146395.265873</td>\n",
       "    </tr>\n",
       "    <tr>\n",
       "      <th>1</th>\n",
       "      <td>1</td>\n",
       "      <td>173044.834722</td>\n",
       "    </tr>\n",
       "    <tr>\n",
       "      <th>2</th>\n",
       "      <td>2</td>\n",
       "      <td>176375.559293</td>\n",
       "    </tr>\n",
       "    <tr>\n",
       "      <th>3</th>\n",
       "      <td>3</td>\n",
       "      <td>178262.958048</td>\n",
       "    </tr>\n",
       "    <tr>\n",
       "      <th>4</th>\n",
       "      <td>4</td>\n",
       "      <td>165011.173111</td>\n",
       "    </tr>\n",
       "    <tr>\n",
       "      <th>5</th>\n",
       "      <td>5</td>\n",
       "      <td>65437.625000</td>\n",
       "    </tr>\n",
       "    <tr>\n",
       "      <th>6</th>\n",
       "      <td>6</td>\n",
       "      <td>75606.689306</td>\n",
       "    </tr>\n",
       "  </tbody>\n",
       "</table>\n",
       "</div>"
      ],
      "text/plain": [
       "   day_of_week    avg_entries\n",
       "0            0  146395.265873\n",
       "1            1  173044.834722\n",
       "2            2  176375.559293\n",
       "3            3  178262.958048\n",
       "4            4  165011.173111\n",
       "5            5   65437.625000\n",
       "6            6   75606.689306"
      ]
     },
     "execution_count": 26,
     "metadata": {},
     "output_type": "execute_result"
    }
   ],
   "source": [
    "# Day of week daily entries\n",
    "# Sum over all turnstiles\n",
    "# penn_total = penn_filter2.groupby([\"day_of_week\",\"median_hour\"])['avg_entries'].sum().reset_index()\n",
    "\n",
    "# Sum over hours for one day\n",
    "penn_total_byweek = penn_total.groupby(\"day_of_week\")['avg_entries'].sum().reset_index()\n",
    "penn_total_byweek"
   ]
  },
  {
   "cell_type": "code",
   "execution_count": 27,
   "metadata": {},
   "outputs": [
    {
     "data": {
      "text/plain": [
       "Text(0, 0.5, 'total entries')"
      ]
     },
     "execution_count": 27,
     "metadata": {},
     "output_type": "execute_result"
    },
    {
     "data": {
      "image/png": "[encoded data removed]",
      "text/plain": [
       "<Figure size 432x288 with 1 Axes>"
      ]
     },
     "metadata": {
      "needs_background": "light"
     },
     "output_type": "display_data"
    }
   ],
   "source": [
    "# Barplot showing entries of the hour in a day\n",
    "ax = sns.barplot(x='day_of_week', y= 'avg_entries', data = penn_total_byweek)\n",
    "ax.set_title('penn station')\n",
    "ax.set_xlabel('day of week')\n",
    "ax.set_ylabel('total entries')"
   ]
  },
  {
   "cell_type": "code",
   "execution_count": 28,
   "metadata": {},
   "outputs": [
    {
     "data": {
      "text/plain": [
       "(10316.614987641266, 247598.75970339036)"
      ]
     },
     "execution_count": 28,
     "metadata": {},
     "output_type": "execute_result"
    }
   ],
   "source": [
    "# Check the daily entries\n",
    "penn_total_byday.avg_entries.mean(),penn_total_byday.avg_entries.mean()*24"
   ]
  },
  {
   "cell_type": "code",
   "execution_count": null,
   "metadata": {},
   "outputs": [],
   "source": []
  },
  {
   "cell_type": "code",
   "execution_count": null,
   "metadata": {},
   "outputs": [],
   "source": []
  },
  {
   "cell_type": "code",
   "execution_count": 29,
   "metadata": {},
   "outputs": [],
   "source": [
    "# weekday/weekend\n",
    "penn_weekday = penn_filter2[penn_filter2['day_of_week'] < 5]\n",
    "penn_weekend = penn_filter2[penn_filter2['day_of_week'] >= 5]"
   ]
  },
  {
   "cell_type": "code",
   "execution_count": 30,
   "metadata": {},
   "outputs": [
    {
     "data": {
      "text/html": [
       "<div>\n",
       "<style scoped>\n",
       "    .dataframe tbody tr th:only-of-type {\n",
       "        vertical-align: middle;\n",
       "    }\n",
       "\n",
       "    .dataframe tbody tr th {\n",
       "        vertical-align: top;\n",
       "    }\n",
       "\n",
       "    .dataframe thead th {\n",
       "        text-align: right;\n",
       "    }\n",
       "</style>\n",
       "<table border=\"1\" class=\"dataframe\">\n",
       "  <thead>\n",
       "    <tr style=\"text-align: right;\">\n",
       "      <th></th>\n",
       "      <th>STATION</th>\n",
       "      <th>DIVISION</th>\n",
       "      <th>entries</th>\n",
       "      <th>exits</th>\n",
       "      <th>DateTime</th>\n",
       "      <th>time_span (hr)</th>\n",
       "      <th>avg_entries</th>\n",
       "      <th>median_hour</th>\n",
       "      <th>day_of_week</th>\n",
       "      <th>UNIQUEID</th>\n",
       "    </tr>\n",
       "  </thead>\n",
       "  <tbody>\n",
       "    <tr>\n",
       "      <th>50310</th>\n",
       "      <td>34 ST-PENN STA</td>\n",
       "      <td>IND</td>\n",
       "      <td>28.0</td>\n",
       "      <td>43.0</td>\n",
       "      <td>2018-05-12 08:00:00</td>\n",
       "      <td>4.0</td>\n",
       "      <td>7.00</td>\n",
       "      <td>6</td>\n",
       "      <td>5</td>\n",
       "      <td>34 ST-PENN STA_R012_N067_00-00-00</td>\n",
       "    </tr>\n",
       "    <tr>\n",
       "      <th>50311</th>\n",
       "      <td>34 ST-PENN STA</td>\n",
       "      <td>IND</td>\n",
       "      <td>95.0</td>\n",
       "      <td>116.0</td>\n",
       "      <td>2018-05-12 12:00:00</td>\n",
       "      <td>4.0</td>\n",
       "      <td>23.75</td>\n",
       "      <td>10</td>\n",
       "      <td>5</td>\n",
       "      <td>34 ST-PENN STA_R012_N067_00-00-00</td>\n",
       "    </tr>\n",
       "    <tr>\n",
       "      <th>50312</th>\n",
       "      <td>34 ST-PENN STA</td>\n",
       "      <td>IND</td>\n",
       "      <td>150.0</td>\n",
       "      <td>150.0</td>\n",
       "      <td>2018-05-12 16:00:00</td>\n",
       "      <td>4.0</td>\n",
       "      <td>37.50</td>\n",
       "      <td>14</td>\n",
       "      <td>5</td>\n",
       "      <td>34 ST-PENN STA_R012_N067_00-00-00</td>\n",
       "    </tr>\n",
       "    <tr>\n",
       "      <th>50313</th>\n",
       "      <td>34 ST-PENN STA</td>\n",
       "      <td>IND</td>\n",
       "      <td>105.0</td>\n",
       "      <td>157.0</td>\n",
       "      <td>2018-05-12 20:00:00</td>\n",
       "      <td>4.0</td>\n",
       "      <td>26.25</td>\n",
       "      <td>18</td>\n",
       "      <td>5</td>\n",
       "      <td>34 ST-PENN STA_R012_N067_00-00-00</td>\n",
       "    </tr>\n",
       "    <tr>\n",
       "      <th>50314</th>\n",
       "      <td>34 ST-PENN STA</td>\n",
       "      <td>IND</td>\n",
       "      <td>41.0</td>\n",
       "      <td>56.0</td>\n",
       "      <td>2018-05-13 00:00:00</td>\n",
       "      <td>4.0</td>\n",
       "      <td>10.25</td>\n",
       "      <td>22</td>\n",
       "      <td>6</td>\n",
       "      <td>34 ST-PENN STA_R012_N067_00-00-00</td>\n",
       "    </tr>\n",
       "    <tr>\n",
       "      <th>...</th>\n",
       "      <td>...</td>\n",
       "      <td>...</td>\n",
       "      <td>...</td>\n",
       "      <td>...</td>\n",
       "      <td>...</td>\n",
       "      <td>...</td>\n",
       "      <td>...</td>\n",
       "      <td>...</td>\n",
       "      <td>...</td>\n",
       "      <td>...</td>\n",
       "    </tr>\n",
       "    <tr>\n",
       "      <th>722593</th>\n",
       "      <td>34 ST-PENN STA</td>\n",
       "      <td>IRT</td>\n",
       "      <td>9.0</td>\n",
       "      <td>7.0</td>\n",
       "      <td>2018-06-03 06:00:00</td>\n",
       "      <td>4.0</td>\n",
       "      <td>2.25</td>\n",
       "      <td>4</td>\n",
       "      <td>6</td>\n",
       "      <td>34 ST-PENN STA_R293_R142_01-06-01</td>\n",
       "    </tr>\n",
       "    <tr>\n",
       "      <th>722594</th>\n",
       "      <td>34 ST-PENN STA</td>\n",
       "      <td>IRT</td>\n",
       "      <td>46.0</td>\n",
       "      <td>67.0</td>\n",
       "      <td>2018-06-03 10:00:00</td>\n",
       "      <td>4.0</td>\n",
       "      <td>11.50</td>\n",
       "      <td>8</td>\n",
       "      <td>6</td>\n",
       "      <td>34 ST-PENN STA_R293_R142_01-06-01</td>\n",
       "    </tr>\n",
       "    <tr>\n",
       "      <th>722595</th>\n",
       "      <td>34 ST-PENN STA</td>\n",
       "      <td>IRT</td>\n",
       "      <td>120.0</td>\n",
       "      <td>173.0</td>\n",
       "      <td>2018-06-03 14:00:00</td>\n",
       "      <td>4.0</td>\n",
       "      <td>30.00</td>\n",
       "      <td>12</td>\n",
       "      <td>6</td>\n",
       "      <td>34 ST-PENN STA_R293_R142_01-06-01</td>\n",
       "    </tr>\n",
       "    <tr>\n",
       "      <th>722596</th>\n",
       "      <td>34 ST-PENN STA</td>\n",
       "      <td>IRT</td>\n",
       "      <td>115.0</td>\n",
       "      <td>271.0</td>\n",
       "      <td>2018-06-03 18:00:00</td>\n",
       "      <td>4.0</td>\n",
       "      <td>28.75</td>\n",
       "      <td>16</td>\n",
       "      <td>6</td>\n",
       "      <td>34 ST-PENN STA_R293_R142_01-06-01</td>\n",
       "    </tr>\n",
       "    <tr>\n",
       "      <th>722597</th>\n",
       "      <td>34 ST-PENN STA</td>\n",
       "      <td>IRT</td>\n",
       "      <td>102.0</td>\n",
       "      <td>124.0</td>\n",
       "      <td>2018-06-03 22:00:00</td>\n",
       "      <td>4.0</td>\n",
       "      <td>25.50</td>\n",
       "      <td>20</td>\n",
       "      <td>6</td>\n",
       "      <td>34 ST-PENN STA_R293_R142_01-06-01</td>\n",
       "    </tr>\n",
       "  </tbody>\n",
       "</table>\n",
       "<p>3567 rows × 10 columns</p>\n",
       "</div>"
      ],
      "text/plain": [
       "               STATION DIVISION  entries  exits            DateTime  \\\n",
       "50310   34 ST-PENN STA      IND     28.0   43.0 2018-05-12 08:00:00   \n",
       "50311   34 ST-PENN STA      IND     95.0  116.0 2018-05-12 12:00:00   \n",
       "50312   34 ST-PENN STA      IND    150.0  150.0 2018-05-12 16:00:00   \n",
       "50313   34 ST-PENN STA      IND    105.0  157.0 2018-05-12 20:00:00   \n",
       "50314   34 ST-PENN STA      IND     41.0   56.0 2018-05-13 00:00:00   \n",
       "...                ...      ...      ...    ...                 ...   \n",
       "722593  34 ST-PENN STA      IRT      9.0    7.0 2018-06-03 06:00:00   \n",
       "722594  34 ST-PENN STA      IRT     46.0   67.0 2018-06-03 10:00:00   \n",
       "722595  34 ST-PENN STA      IRT    120.0  173.0 2018-06-03 14:00:00   \n",
       "722596  34 ST-PENN STA      IRT    115.0  271.0 2018-06-03 18:00:00   \n",
       "722597  34 ST-PENN STA      IRT    102.0  124.0 2018-06-03 22:00:00   \n",
       "\n",
       "        time_span (hr)  avg_entries  median_hour  day_of_week  \\\n",
       "50310              4.0         7.00            6            5   \n",
       "50311              4.0        23.75           10            5   \n",
       "50312              4.0        37.50           14            5   \n",
       "50313              4.0        26.25           18            5   \n",
       "50314              4.0        10.25           22            6   \n",
       "...                ...          ...          ...          ...   \n",
       "722593             4.0         2.25            4            6   \n",
       "722594             4.0        11.50            8            6   \n",
       "722595             4.0        30.00           12            6   \n",
       "722596             4.0        28.75           16            6   \n",
       "722597             4.0        25.50           20            6   \n",
       "\n",
       "                                 UNIQUEID  \n",
       "50310   34 ST-PENN STA_R012_N067_00-00-00  \n",
       "50311   34 ST-PENN STA_R012_N067_00-00-00  \n",
       "50312   34 ST-PENN STA_R012_N067_00-00-00  \n",
       "50313   34 ST-PENN STA_R012_N067_00-00-00  \n",
       "50314   34 ST-PENN STA_R012_N067_00-00-00  \n",
       "...                                   ...  \n",
       "722593  34 ST-PENN STA_R293_R142_01-06-01  \n",
       "722594  34 ST-PENN STA_R293_R142_01-06-01  \n",
       "722595  34 ST-PENN STA_R293_R142_01-06-01  \n",
       "722596  34 ST-PENN STA_R293_R142_01-06-01  \n",
       "722597  34 ST-PENN STA_R293_R142_01-06-01  \n",
       "\n",
       "[3567 rows x 10 columns]"
      ]
     },
     "execution_count": 30,
     "metadata": {},
     "output_type": "execute_result"
    }
   ],
   "source": [
    "penn_weekend"
   ]
  },
  {
   "cell_type": "code",
   "execution_count": 31,
   "metadata": {},
   "outputs": [],
   "source": [
    "# Weekday data\n",
    "# Sum over all turnstiles\n",
    "penn_weekday_total = penn_weekday.groupby([\"day_of_week\",\"median_hour\"])['avg_entries'].sum().reset_index()\n",
    "# Average over day\n",
    "penn_weekday_total_byday = penn_weekday_total.groupby(\"median_hour\")['avg_entries'].mean().reset_index()\n",
    "# penn_weekday_total_byday"
   ]
  },
  {
   "cell_type": "code",
   "execution_count": 32,
   "metadata": {},
   "outputs": [
    {
     "data": {
      "text/plain": [
       "Text(0, 0.5, 'total entries')"
      ]
     },
     "execution_count": 32,
     "metadata": {},
     "output_type": "execute_result"
    },
    {
     "data": {
      "image/png": "[encoded data removed]",
      "text/plain": [
       "<Figure size 432x288 with 1 Axes>"
      ]
     },
     "metadata": {
      "needs_background": "light"
     },
     "output_type": "display_data"
    }
   ],
   "source": [
    "# Barplot showing entries of the hour in a day\n",
    "ax = sns.barplot(x='median_hour', y= 'avg_entries', data = penn_weekday_total_byday)\n",
    "ax.set_title('penn station (weekday)')\n",
    "ax.set_xlabel('time')\n",
    "ax.set_ylabel('total entries')"
   ]
  },
  {
   "cell_type": "code",
   "execution_count": 33,
   "metadata": {},
   "outputs": [],
   "source": [
    "# Weekend data\n",
    "# Sum over all turnstiles\n",
    "penn_weekend_total = penn_weekend.groupby([\"day_of_week\",\"median_hour\"])['avg_entries'].sum().reset_index()\n",
    "# Average over day\n",
    "penn_weekend_total_byday = penn_weekend_total.groupby(\"median_hour\")['avg_entries'].mean().reset_index()\n",
    "# penn_weekend_total_byday"
   ]
  },
  {
   "cell_type": "code",
   "execution_count": 34,
   "metadata": {},
   "outputs": [
    {
     "data": {
      "text/plain": [
       "Text(0, 0.5, 'total entries')"
      ]
     },
     "execution_count": 34,
     "metadata": {},
     "output_type": "execute_result"
    },
    {
     "data": {
      "image/png": "[encoded data removed]",
      "text/plain": [
       "<Figure size 432x288 with 1 Axes>"
      ]
     },
     "metadata": {
      "needs_background": "light"
     },
     "output_type": "display_data"
    }
   ],
   "source": [
    "# Barplot showing entries of the hour in a day\n",
    "ax = sns.barplot(x='median_hour', y= 'avg_entries', data = penn_weekend_total_byday)\n",
    "ax.set_title('penn station (weekend)')\n",
    "ax.set_xlabel('time')\n",
    "ax.set_ylabel('total entries')"
   ]
  },
  {
   "cell_type": "code",
   "execution_count": null,
   "metadata": {},
   "outputs": [],
   "source": []
  },
  {
   "cell_type": "code",
   "execution_count": 35,
   "metadata": {},
   "outputs": [
    {
     "data": {
      "text/plain": [
       "Text(0, 0.5, 'total entries')"
      ]
     },
     "execution_count": 35,
     "metadata": {},
     "output_type": "execute_result"
    },
    {
     "data": {
      "image/png": "[encoded data removed]",
      "text/plain": [
       "<Figure size 432x288 with 1 Axes>"
      ]
     },
     "metadata": {
      "needs_background": "light"
     },
     "output_type": "display_data"
    }
   ],
   "source": [
    "# Plot together for comparison\n",
    "ax = sns.lineplot(x='median_hour', y= 'avg_entries', data = penn_weekday_total_byday)\n",
    "ax.set_title('penn station (weekday)')\n",
    "ax.set_xlabel('time')\n",
    "ax.set_ylabel('total entries')\n",
    "ax = sns.lineplot(x='median_hour', y= 'avg_entries', data = penn_weekend_total_byday)\n",
    "ax.set_title('penn station (weekend)')\n",
    "ax.set_xlabel('time')\n",
    "ax.set_ylabel('total entries')"
   ]
  },
  {
   "cell_type": "code",
   "execution_count": 38,
   "metadata": {},
   "outputs": [
    {
     "ename": "ValueError",
     "evalue": "not enough values to unpack (expected 2, got 1)",
     "output_type": "error",
     "traceback": [
      "\u001b[0;31m---------------------------------------------------------------------------\u001b[0m",
      "\u001b[0;31mValueError\u001b[0m                                Traceback (most recent call last)",
      "\u001b[0;32m<ipython-input-38-a083370415dd>\u001b[0m in \u001b[0;36m<module>\u001b[0;34m\u001b[0m\n\u001b[1;32m     12\u001b[0m \u001b[0mplt\u001b[0m\u001b[0;34m.\u001b[0m\u001b[0mlegend\u001b[0m\u001b[0;34m(\u001b[0m\u001b[0mfontsize\u001b[0m\u001b[0;34m=\u001b[0m\u001b[0;36m15\u001b[0m\u001b[0;34m)\u001b[0m\u001b[0;34m\u001b[0m\u001b[0;34m\u001b[0m\u001b[0m\n\u001b[1;32m     13\u001b[0m \u001b[0mplt\u001b[0m\u001b[0;34m.\u001b[0m\u001b[0mxlim\u001b[0m\u001b[0;34m(\u001b[0m\u001b[0;34m[\u001b[0m\u001b[0;36m0\u001b[0m\u001b[0;34m,\u001b[0m\u001b[0;36m22\u001b[0m\u001b[0;34m]\u001b[0m\u001b[0;34m)\u001b[0m\u001b[0;34m\u001b[0m\u001b[0;34m\u001b[0m\u001b[0m\n\u001b[0;32m---> 14\u001b[0;31m \u001b[0mplt\u001b[0m\u001b[0;34m.\u001b[0m\u001b[0mylim\u001b[0m\u001b[0;34m(\u001b[0m\u001b[0;34m[\u001b[0m\u001b[0;36m0\u001b[0m\u001b[0;34m]\u001b[0m\u001b[0;34m)\u001b[0m\u001b[0;34m\u001b[0m\u001b[0;34m\u001b[0m\u001b[0m\n\u001b[0m\u001b[1;32m     15\u001b[0m \u001b[0mplt\u001b[0m\u001b[0;34m.\u001b[0m\u001b[0mxticks\u001b[0m\u001b[0;34m(\u001b[0m\u001b[0mfontsize\u001b[0m\u001b[0;34m=\u001b[0m\u001b[0;36m15\u001b[0m\u001b[0;34m)\u001b[0m\u001b[0;34m\u001b[0m\u001b[0;34m\u001b[0m\u001b[0m\n\u001b[1;32m     16\u001b[0m \u001b[0mplt\u001b[0m\u001b[0;34m.\u001b[0m\u001b[0myticks\u001b[0m\u001b[0;34m(\u001b[0m\u001b[0mfontsize\u001b[0m\u001b[0;34m=\u001b[0m\u001b[0;36m12\u001b[0m\u001b[0;34m)\u001b[0m\u001b[0;34m\u001b[0m\u001b[0;34m\u001b[0m\u001b[0m\n",
      "\u001b[0;32m/opt/anaconda3/lib/python3.8/site-packages/matplotlib/pyplot.py\u001b[0m in \u001b[0;36mylim\u001b[0;34m(*args, **kwargs)\u001b[0m\n\u001b[1;32m   1600\u001b[0m     \u001b[0;32mif\u001b[0m \u001b[0;32mnot\u001b[0m \u001b[0margs\u001b[0m \u001b[0;32mand\u001b[0m \u001b[0;32mnot\u001b[0m \u001b[0mkwargs\u001b[0m\u001b[0;34m:\u001b[0m\u001b[0;34m\u001b[0m\u001b[0;34m\u001b[0m\u001b[0m\n\u001b[1;32m   1601\u001b[0m         \u001b[0;32mreturn\u001b[0m \u001b[0max\u001b[0m\u001b[0;34m.\u001b[0m\u001b[0mget_ylim\u001b[0m\u001b[0;34m(\u001b[0m\u001b[0;34m)\u001b[0m\u001b[0;34m\u001b[0m\u001b[0;34m\u001b[0m\u001b[0m\n\u001b[0;32m-> 1602\u001b[0;31m     \u001b[0mret\u001b[0m \u001b[0;34m=\u001b[0m \u001b[0max\u001b[0m\u001b[0;34m.\u001b[0m\u001b[0mset_ylim\u001b[0m\u001b[0;34m(\u001b[0m\u001b[0;34m*\u001b[0m\u001b[0margs\u001b[0m\u001b[0;34m,\u001b[0m \u001b[0;34m**\u001b[0m\u001b[0mkwargs\u001b[0m\u001b[0;34m)\u001b[0m\u001b[0;34m\u001b[0m\u001b[0;34m\u001b[0m\u001b[0m\n\u001b[0m\u001b[1;32m   1603\u001b[0m     \u001b[0;32mreturn\u001b[0m \u001b[0mret\u001b[0m\u001b[0;34m\u001b[0m\u001b[0;34m\u001b[0m\u001b[0m\n\u001b[1;32m   1604\u001b[0m \u001b[0;34m\u001b[0m\u001b[0m\n",
      "\u001b[0;32m/opt/anaconda3/lib/python3.8/site-packages/matplotlib/axes/_base.py\u001b[0m in \u001b[0;36mset_ylim\u001b[0;34m(self, bottom, top, emit, auto, ymin, ymax)\u001b[0m\n\u001b[1;32m   3554\u001b[0m         \"\"\"\n\u001b[1;32m   3555\u001b[0m         \u001b[0;32mif\u001b[0m \u001b[0mtop\u001b[0m \u001b[0;32mis\u001b[0m \u001b[0;32mNone\u001b[0m \u001b[0;32mand\u001b[0m \u001b[0mnp\u001b[0m\u001b[0;34m.\u001b[0m\u001b[0miterable\u001b[0m\u001b[0;34m(\u001b[0m\u001b[0mbottom\u001b[0m\u001b[0;34m)\u001b[0m\u001b[0;34m:\u001b[0m\u001b[0;34m\u001b[0m\u001b[0;34m\u001b[0m\u001b[0m\n\u001b[0;32m-> 3556\u001b[0;31m             \u001b[0mbottom\u001b[0m\u001b[0;34m,\u001b[0m \u001b[0mtop\u001b[0m \u001b[0;34m=\u001b[0m \u001b[0mbottom\u001b[0m\u001b[0;34m\u001b[0m\u001b[0;34m\u001b[0m\u001b[0m\n\u001b[0m\u001b[1;32m   3557\u001b[0m         \u001b[0;32mif\u001b[0m \u001b[0mymin\u001b[0m \u001b[0;32mis\u001b[0m \u001b[0;32mnot\u001b[0m \u001b[0;32mNone\u001b[0m\u001b[0;34m:\u001b[0m\u001b[0;34m\u001b[0m\u001b[0;34m\u001b[0m\u001b[0m\n\u001b[1;32m   3558\u001b[0m             \u001b[0;32mif\u001b[0m \u001b[0mbottom\u001b[0m \u001b[0;32mis\u001b[0m \u001b[0;32mnot\u001b[0m \u001b[0;32mNone\u001b[0m\u001b[0;34m:\u001b[0m\u001b[0;34m\u001b[0m\u001b[0;34m\u001b[0m\u001b[0m\n",
      "\u001b[0;31mValueError\u001b[0m: not enough values to unpack (expected 2, got 1)"
     ]
    },
    {
     "data": {
      "image/png": "[encoded data removed]",
      "text/plain": [
       "<Figure size 576x396 with 1 Axes>"
      ]
     },
     "metadata": {},
     "output_type": "display_data"
    }
   ],
   "source": [
    "# Area Plot\n",
    "# Try area plot\n",
    "from matplotlib import pyplot as plt\n",
    "plt.style.use('seaborn')\n",
    "temp1 = penn_weekday_total_byday.set_index('median_hour')\n",
    "temp2 = penn_weekend_total_byday.set_index('median_hour')\n",
    "temp1[\"avg_entries\"].plot.area(label='weekday',alpha=0.5)\n",
    "temp2[\"avg_entries\"].plot.area(label='weekday',alpha=0.5)\n",
    "plt.xlabel('Time', fontsize=15)\n",
    "plt.ylabel('Traffic', fontsize=15)\n",
    "plt.title('34 ST-Penn Station',fontsize=17)\n",
    "plt.legend(fontsize=15)\n",
    "plt.xlim([0,22])\n",
    "plt.ylim([0])\n",
    "plt.xticks(fontsize=15)\n",
    "plt.yticks(fontsize=12)"
   ]
  },
  {
   "cell_type": "code",
   "execution_count": null,
   "metadata": {},
   "outputs": [],
   "source": []
  }
 ],
 "metadata": {
  "kernelspec": {
   "display_name": "Python 3",
   "language": "python",
   "name": "python3"
  },
  "language_info": {
   "codemirror_mode": {
    "name": "ipython",
    "version": 3
   },
   "file_extension": ".py",
   "mimetype": "text/x-python",
   "name": "python",
   "nbconvert_exporter": "python",
   "pygments_lexer": "ipython3",
   "version": "3.8.5"
  }
 },
 "nbformat": 4,
 "nbformat_minor": 4
}
