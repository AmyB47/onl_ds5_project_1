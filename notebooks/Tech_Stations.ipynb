{
 "cells": [
  {
   "cell_type": "code",
   "execution_count": 5,
   "metadata": {},
   "outputs": [],
   "source": [
    "import numpy as np\n",
    "import pandas as pd"
   ]
  },
  {
   "cell_type": "code",
   "execution_count": 8,
   "metadata": {},
   "outputs": [],
   "source": [
    "import pickle"
   ]
  },
  {
   "cell_type": "code",
   "execution_count": 6,
   "metadata": {},
   "outputs": [],
   "source": [
    "TechStations = {'Salesforce':['5 AVE-BRYANT PK',609],'Spotify':['CORTLANDT ST',624],'Amazon':['34 ST-PENN STA',164],\n",
    "               'Facebook':['ASTOR PLACE',407], 'Google':['14 ST', 601], 'NYU_Tandon':['JAY ST-METROTEC', 636],\n",
    "               'CUNY_Tech':['JAY ST-METROTEC',636], 'CUNY_BOM':['CANAL ST',169], 'CUNY_HUNTER':['68 ST-HUNTER COL', 399], 'Columbia':['125 ST', 306]}"
   ]
  },
  {
   "cell_type": "code",
   "execution_count": 7,
   "metadata": {},
   "outputs": [
    {
     "data": {
      "text/plain": [
       "{'Salesforce': ['5 AVE-BRYANT PK', 609],\n",
       " 'Spotify': ['CORTLANDT ST', 624],\n",
       " 'Amazon': ['34 ST-PENN STA', 164],\n",
       " 'Facebook': ['ASTOR PLACE', 407],\n",
       " 'Google': ['14 ST', 601],\n",
       " 'NYU_Tandon': ['JAY ST-METROTEC', 636],\n",
       " 'CUNY_Tech': ['JAY ST-METROTEC', 636],\n",
       " 'CUNY_BOM': ['CANAL ST', 169],\n",
       " 'CUNY_HUNTER': ['68 ST-HUNTER COL', 399],\n",
       " 'Columbia': ['125 ST', 306]}"
      ]
     },
     "execution_count": 7,
     "metadata": {},
     "output_type": "execute_result"
    }
   ],
   "source": [
    "TechStations"
   ]
  },
  {
   "cell_type": "code",
   "execution_count": 9,
   "metadata": {},
   "outputs": [],
   "source": [
    "with open('Tech_Stations','wb') as to_write:\n",
    "    pickle.dump(TechStations, to_write)"
   ]
  },
  {
   "cell_type": "code",
   "execution_count": 18,
   "metadata": {},
   "outputs": [],
   "source": [
    "pd.DataFrame(TechStations).to_csv('Tech_Stations.csv')"
   ]
  },
  {
   "cell_type": "code",
   "execution_count": 13,
   "metadata": {},
   "outputs": [],
   "source": []
  },
  {
   "cell_type": "code",
   "execution_count": null,
   "metadata": {},
   "outputs": [],
   "source": []
  }
 ],
 "metadata": {
  "kernelspec": {
   "display_name": "Python 3",
   "language": "python",
   "name": "python3"
  },
  "language_info": {
   "codemirror_mode": {
    "name": "ipython",
    "version": 3
   },
   "file_extension": ".py",
   "mimetype": "text/x-python",
   "name": "python",
   "nbconvert_exporter": "python",
   "pygments_lexer": "ipython3",
   "version": "3.8.5"
  }
 },
 "nbformat": 4,
 "nbformat_minor": 4
}
