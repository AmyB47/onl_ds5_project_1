{
 "metadata": {
  "language_info": {
   "codemirror_mode": {
    "name": "ipython",
    "version": 3
   },
   "file_extension": ".py",
   "mimetype": "text/x-python",
   "name": "python",
   "nbconvert_exporter": "python",
   "pygments_lexer": "ipython3",
   "version": "3.8.5-final"
  },
  "orig_nbformat": 2,
  "kernelspec": {
   "name": "python3",
   "display_name": "Python 3",
   "language": "python"
  }
 },
 "nbformat": 4,
 "nbformat_minor": 2,
 "cells": [
  {
   "cell_type": "code",
   "execution_count": 6,
   "metadata": {},
   "outputs": [],
   "source": [
    "import pandas as pd"
   ]
  },
  {
   "cell_type": "code",
   "execution_count": 7,
   "metadata": {},
   "outputs": [],
   "source": [
    "def retrieve_mta_info(weeks, start_date):\n",
    "    lists = []\n",
    "\n",
    "    url_base = 'http://web.mta.info/developers/data/nyct/turnstile/turnstile_'\n",
    "\n",
    "    for week in range(weeks):\n",
    "        file_date = pd.to_datetime(start_date) + pd.to_timedelta(pd.np.ceil(week * 7), unit=\"D\")\n",
    "\n",
    "        filename = f'{url_base}{str(file_date.year)[2:]}{str(file_date.month).zfill(2)}{str(file_date.day).zfill(2)}.txt'\n",
    "\n",
    "        print(f'Week {week + 1} - {filename}')\n",
    "\n",
    "        lists.append(pd.read_csv(filename))\n",
    "        df = pd.concat(lists)\n",
    "\n",
    "        df.to_pickle(f'mta_{pd.to_datetime(start_date).year}')\n",
    "\n",
    "    return df"
   ]
  },
  {
   "cell_type": "code",
   "execution_count": 8,
   "metadata": {},
   "outputs": [
    {
     "output_type": "stream",
     "name": "stdout",
     "text": [
      "Week 1 - http://web.mta.info/developers/data/nyct/turnstile/turnstile_180505.txt\n",
      "Week 2 - http://web.mta.info/developers/data/nyct/turnstile/turnstile_180512.txt\n",
      "Week 3 - http://web.mta.info/developers/data/nyct/turnstile/turnstile_180519.txt\n",
      "Week 4 - http://web.mta.info/developers/data/nyct/turnstile/turnstile_180526.txt\n",
      "Week 5 - http://web.mta.info/developers/data/nyct/turnstile/turnstile_180602.txt\n",
      "Week 6 - http://web.mta.info/developers/data/nyct/turnstile/turnstile_180609.txt\n",
      "Week 7 - http://web.mta.info/developers/data/nyct/turnstile/turnstile_180616.txt\n",
      "Week 8 - http://web.mta.info/developers/data/nyct/turnstile/turnstile_180623.txt\n"
     ]
    },
    {
     "output_type": "execute_result",
     "data": {
      "text/plain": [
       "          C/A  UNIT       SCP        STATION LINENAME DIVISION        DATE  \\\n",
       "0        A002  R051  02-00-00          59 ST  NQR456W      BMT  04/28/2018   \n",
       "1        A002  R051  02-00-00          59 ST  NQR456W      BMT  04/28/2018   \n",
       "2        A002  R051  02-00-00          59 ST  NQR456W      BMT  04/28/2018   \n",
       "3        A002  R051  02-00-00          59 ST  NQR456W      BMT  04/28/2018   \n",
       "4        A002  R051  02-00-00          59 ST  NQR456W      BMT  04/28/2018   \n",
       "...       ...   ...       ...            ...      ...      ...         ...   \n",
       "196681  TRAM2  R469  00-03-01  RIT-ROOSEVELT        R      RIT  06/22/2018   \n",
       "196682  TRAM2  R469  00-03-01  RIT-ROOSEVELT        R      RIT  06/22/2018   \n",
       "196683  TRAM2  R469  00-03-01  RIT-ROOSEVELT        R      RIT  06/22/2018   \n",
       "196684  TRAM2  R469  00-03-01  RIT-ROOSEVELT        R      RIT  06/22/2018   \n",
       "196685  TRAM2  R469  00-03-01  RIT-ROOSEVELT        R      RIT  06/22/2018   \n",
       "\n",
       "            TIME     DESC  ENTRIES  \\\n",
       "0       00:00:00  REGULAR  6598847   \n",
       "1       04:00:00  REGULAR  6598864   \n",
       "2       08:00:00  REGULAR  6598880   \n",
       "3       12:00:00  REGULAR  6598961   \n",
       "4       16:00:00  REGULAR  6599175   \n",
       "...          ...      ...      ...   \n",
       "196681  05:00:00  REGULAR  2943952   \n",
       "196682  09:00:00  REGULAR  2944236   \n",
       "196683  13:00:00  REGULAR  2944660   \n",
       "196684  17:00:00  REGULAR  2945138   \n",
       "196685  21:00:00  REGULAR  2945524   \n",
       "\n",
       "        EXITS                                                                 \n",
       "0                                                 2235829                     \n",
       "1                                                 2235830                     \n",
       "2                                                 2235863                     \n",
       "3                                                 2235955                     \n",
       "4                                                 2236015                     \n",
       "...                                                   ...                     \n",
       "196681                                             387457                     \n",
       "196682                                             387461                     \n",
       "196683                                             387473                     \n",
       "196684                                             387484                     \n",
       "196685                                             387488                     \n",
       "\n",
       "[1575807 rows x 11 columns]"
      ],
      "text/html": "<div>\n<style scoped>\n    .dataframe tbody tr th:only-of-type {\n        vertical-align: middle;\n    }\n\n    .dataframe tbody tr th {\n        vertical-align: top;\n    }\n\n    .dataframe thead th {\n        text-align: right;\n    }\n</style>\n<table border=\"1\" class=\"dataframe\">\n  <thead>\n    <tr style=\"text-align: right;\">\n      <th></th>\n      <th>C/A</th>\n      <th>UNIT</th>\n      <th>SCP</th>\n      <th>STATION</th>\n      <th>LINENAME</th>\n      <th>DIVISION</th>\n      <th>DATE</th>\n      <th>TIME</th>\n      <th>DESC</th>\n      <th>ENTRIES</th>\n      <th>EXITS</th>\n    </tr>\n  </thead>\n  <tbody>\n    <tr>\n      <th>0</th>\n      <td>A002</td>\n      <td>R051</td>\n      <td>02-00-00</td>\n      <td>59 ST</td>\n      <td>NQR456W</td>\n      <td>BMT</td>\n      <td>04/28/2018</td>\n      <td>00:00:00</td>\n      <td>REGULAR</td>\n      <td>6598847</td>\n      <td>2235829</td>\n    </tr>\n    <tr>\n      <th>1</th>\n      <td>A002</td>\n      <td>R051</td>\n      <td>02-00-00</td>\n      <td>59 ST</td>\n      <td>NQR456W</td>\n      <td>BMT</td>\n      <td>04/28/2018</td>\n      <td>04:00:00</td>\n      <td>REGULAR</td>\n      <td>6598864</td>\n      <td>2235830</td>\n    </tr>\n    <tr>\n      <th>2</th>\n      <td>A002</td>\n      <td>R051</td>\n      <td>02-00-00</td>\n      <td>59 ST</td>\n      <td>NQR456W</td>\n      <td>BMT</td>\n      <td>04/28/2018</td>\n      <td>08:00:00</td>\n      <td>REGULAR</td>\n      <td>6598880</td>\n      <td>2235863</td>\n    </tr>\n    <tr>\n      <th>3</th>\n      <td>A002</td>\n      <td>R051</td>\n      <td>02-00-00</td>\n      <td>59 ST</td>\n      <td>NQR456W</td>\n      <td>BMT</td>\n      <td>04/28/2018</td>\n      <td>12:00:00</td>\n      <td>REGULAR</td>\n      <td>6598961</td>\n      <td>2235955</td>\n    </tr>\n    <tr>\n      <th>4</th>\n      <td>A002</td>\n      <td>R051</td>\n      <td>02-00-00</td>\n      <td>59 ST</td>\n      <td>NQR456W</td>\n      <td>BMT</td>\n      <td>04/28/2018</td>\n      <td>16:00:00</td>\n      <td>REGULAR</td>\n      <td>6599175</td>\n      <td>2236015</td>\n    </tr>\n    <tr>\n      <th>...</th>\n      <td>...</td>\n      <td>...</td>\n      <td>...</td>\n      <td>...</td>\n      <td>...</td>\n      <td>...</td>\n      <td>...</td>\n      <td>...</td>\n      <td>...</td>\n      <td>...</td>\n      <td>...</td>\n    </tr>\n    <tr>\n      <th>196681</th>\n      <td>TRAM2</td>\n      <td>R469</td>\n      <td>00-03-01</td>\n      <td>RIT-ROOSEVELT</td>\n      <td>R</td>\n      <td>RIT</td>\n      <td>06/22/2018</td>\n      <td>05:00:00</td>\n      <td>REGULAR</td>\n      <td>2943952</td>\n      <td>387457</td>\n    </tr>\n    <tr>\n      <th>196682</th>\n      <td>TRAM2</td>\n      <td>R469</td>\n      <td>00-03-01</td>\n      <td>RIT-ROOSEVELT</td>\n      <td>R</td>\n      <td>RIT</td>\n      <td>06/22/2018</td>\n      <td>09:00:00</td>\n      <td>REGULAR</td>\n      <td>2944236</td>\n      <td>387461</td>\n    </tr>\n    <tr>\n      <th>196683</th>\n      <td>TRAM2</td>\n      <td>R469</td>\n      <td>00-03-01</td>\n      <td>RIT-ROOSEVELT</td>\n      <td>R</td>\n      <td>RIT</td>\n      <td>06/22/2018</td>\n      <td>13:00:00</td>\n      <td>REGULAR</td>\n      <td>2944660</td>\n      <td>387473</td>\n    </tr>\n    <tr>\n      <th>196684</th>\n      <td>TRAM2</td>\n      <td>R469</td>\n      <td>00-03-01</td>\n      <td>RIT-ROOSEVELT</td>\n      <td>R</td>\n      <td>RIT</td>\n      <td>06/22/2018</td>\n      <td>17:00:00</td>\n      <td>REGULAR</td>\n      <td>2945138</td>\n      <td>387484</td>\n    </tr>\n    <tr>\n      <th>196685</th>\n      <td>TRAM2</td>\n      <td>R469</td>\n      <td>00-03-01</td>\n      <td>RIT-ROOSEVELT</td>\n      <td>R</td>\n      <td>RIT</td>\n      <td>06/22/2018</td>\n      <td>21:00:00</td>\n      <td>REGULAR</td>\n      <td>2945524</td>\n      <td>387488</td>\n    </tr>\n  </tbody>\n</table>\n<p>1575807 rows × 11 columns</p>\n</div>"
     },
     "metadata": {},
     "execution_count": 8
    }
   ],
   "source": [
    "retrieve_mta_info(8, '2018-05-05')"
   ]
  }
 ]
}