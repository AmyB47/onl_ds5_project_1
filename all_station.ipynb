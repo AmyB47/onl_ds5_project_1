{
 "cells": [
  {
   "cell_type": "code",
   "execution_count": 32,
   "metadata": {},
   "outputs": [],
   "source": [
    "import pandas as pd\n",
    "%matplotlib inline\n",
    "import seaborn as sns"
   ]
  },
  {
   "cell_type": "markdown",
   "metadata": {},
   "source": [
    "### Import data"
   ]
  },
  {
   "cell_type": "code",
   "execution_count": 95,
   "metadata": {},
   "outputs": [],
   "source": [
    "mta_df = pd.read_pickle('mta_2018')"
   ]
  },
  {
   "cell_type": "markdown",
   "metadata": {},
   "source": [
    "### Clean columns"
   ]
  },
  {
   "cell_type": "code",
   "execution_count": 96,
   "metadata": {},
   "outputs": [],
   "source": [
    "# reset mta data index\n",
    "mta_df.reset_index(drop=True,inplace=True)\n",
    "\n",
    "# rename column EXITS\n",
    "mta_df.rename(columns={'EXITS                                                               ':'EXITS'},inplace=True)"
   ]
  },
  {
   "cell_type": "code",
   "execution_count": 97,
   "metadata": {},
   "outputs": [],
   "source": [
    "# Combine DATE, TIME to DateTime\n",
    "mta_df['DateTime'] = pd.to_datetime(mta_df['DATE'] + \" \" + mta_df['TIME'])\n",
    "# Create day_of_week column\n",
    "mta_df['day_of_week'] = mta_df.DateTime.apply(lambda x: x.weekday())"
   ]
  },
  {
   "cell_type": "code",
   "execution_count": 98,
   "metadata": {},
   "outputs": [],
   "source": [
    "# Create Unique Daily ID for each turnstile\n",
    "mta_df['UNIQUEID'] = mta_df['STATION'] + '_' + mta_df['UNIT'] + '_' + mta_df['C/A'] \\\n",
    "+ '_' + mta_df['SCP']"
   ]
  },
  {
   "cell_type": "code",
   "execution_count": 99,
   "metadata": {},
   "outputs": [],
   "source": [
    "# Find time_span (hr) between each row\n",
    "# Note that most are 4.0 hrs but some are not\n",
    "mta_df['time_span (hr)'] = mta_df.DateTime.diff().apply(lambda x: x.total_seconds()/3600)"
   ]
  },
  {
   "cell_type": "code",
   "execution_count": null,
   "metadata": {},
   "outputs": [],
   "source": []
  },
  {
   "cell_type": "code",
   "execution_count": null,
   "metadata": {},
   "outputs": [],
   "source": []
  },
  {
   "cell_type": "code",
   "execution_count": null,
   "metadata": {},
   "outputs": [],
   "source": []
  },
  {
   "cell_type": "markdown",
   "metadata": {},
   "source": [
    "### Find entries for each row"
   ]
  },
  {
   "cell_type": "code",
   "execution_count": 100,
   "metadata": {},
   "outputs": [],
   "source": [
    "# clean ENTRIES/EXITS as they are cumulative data\n",
    "mta_df['entries'] = mta_df.ENTRIES.diff()\n",
    "mta_df['exits'] = mta_df.EXITS.diff()"
   ]
  },
  {
   "cell_type": "code",
   "execution_count": 101,
   "metadata": {},
   "outputs": [],
   "source": [
    "# Find avg_entries (entries per hour)\n",
    "mta_df['avg_entries'] = mta_df['entries']/ mta_df['time_span (hr)']\n",
    "\n",
    "# Find median_hour (center of the time slot)\n",
    "# Corresponds to 2am, 6am, 10am, 14=2pm,...\n",
    "mta_df['median_hour'] = (mta_df['DateTime'] \\\n",
    "                              - (pd.Timedelta(seconds=penn_filter.iloc[1]['time_span (hr)']*3600)/2)).dt.hour"
   ]
  },
  {
   "cell_type": "code",
   "execution_count": 102,
   "metadata": {},
   "outputs": [],
   "source": [
    "# Drop unnecessary columns\n",
    "mta_df.drop(columns=['DATE','TIME','C/A','UNIT','SCP','LINENAME','DESC','ENTRIES','EXITS'],inplace=True)"
   ]
  },
  {
   "cell_type": "code",
   "execution_count": 135,
   "metadata": {
    "scrolled": true
   },
   "outputs": [
    {
     "data": {
      "text/html": [
       "<div>\n",
       "<style scoped>\n",
       "    .dataframe tbody tr th:only-of-type {\n",
       "        vertical-align: middle;\n",
       "    }\n",
       "\n",
       "    .dataframe tbody tr th {\n",
       "        vertical-align: top;\n",
       "    }\n",
       "\n",
       "    .dataframe thead th {\n",
       "        text-align: right;\n",
       "    }\n",
       "</style>\n",
       "<table border=\"1\" class=\"dataframe\">\n",
       "  <thead>\n",
       "    <tr style=\"text-align: right;\">\n",
       "      <th></th>\n",
       "      <th>STATION</th>\n",
       "      <th>DIVISION</th>\n",
       "      <th>DateTime</th>\n",
       "      <th>day_of_week</th>\n",
       "      <th>UNIQUEID</th>\n",
       "      <th>time_span (hr)</th>\n",
       "      <th>entries</th>\n",
       "      <th>exits</th>\n",
       "      <th>avg_entries</th>\n",
       "      <th>median_hour</th>\n",
       "    </tr>\n",
       "  </thead>\n",
       "  <tbody>\n",
       "    <tr>\n",
       "      <th>0</th>\n",
       "      <td>59 ST</td>\n",
       "      <td>BMT</td>\n",
       "      <td>2018-05-12 00:00:00</td>\n",
       "      <td>5</td>\n",
       "      <td>59 ST_R051_A002_02-00-00</td>\n",
       "      <td>NaN</td>\n",
       "      <td>NaN</td>\n",
       "      <td>NaN</td>\n",
       "      <td>NaN</td>\n",
       "      <td>22</td>\n",
       "    </tr>\n",
       "    <tr>\n",
       "      <th>1</th>\n",
       "      <td>59 ST</td>\n",
       "      <td>BMT</td>\n",
       "      <td>2018-05-12 04:00:00</td>\n",
       "      <td>5</td>\n",
       "      <td>59 ST_R051_A002_02-00-00</td>\n",
       "      <td>4.0</td>\n",
       "      <td>19.0</td>\n",
       "      <td>5.0</td>\n",
       "      <td>4.75</td>\n",
       "      <td>2</td>\n",
       "    </tr>\n",
       "    <tr>\n",
       "      <th>2</th>\n",
       "      <td>59 ST</td>\n",
       "      <td>BMT</td>\n",
       "      <td>2018-05-12 08:00:00</td>\n",
       "      <td>5</td>\n",
       "      <td>59 ST_R051_A002_02-00-00</td>\n",
       "      <td>4.0</td>\n",
       "      <td>19.0</td>\n",
       "      <td>31.0</td>\n",
       "      <td>4.75</td>\n",
       "      <td>6</td>\n",
       "    </tr>\n",
       "    <tr>\n",
       "      <th>3</th>\n",
       "      <td>59 ST</td>\n",
       "      <td>BMT</td>\n",
       "      <td>2018-05-12 12:00:00</td>\n",
       "      <td>5</td>\n",
       "      <td>59 ST_R051_A002_02-00-00</td>\n",
       "      <td>4.0</td>\n",
       "      <td>105.0</td>\n",
       "      <td>85.0</td>\n",
       "      <td>26.25</td>\n",
       "      <td>10</td>\n",
       "    </tr>\n",
       "    <tr>\n",
       "      <th>4</th>\n",
       "      <td>59 ST</td>\n",
       "      <td>BMT</td>\n",
       "      <td>2018-05-12 16:00:00</td>\n",
       "      <td>5</td>\n",
       "      <td>59 ST_R051_A002_02-00-00</td>\n",
       "      <td>4.0</td>\n",
       "      <td>219.0</td>\n",
       "      <td>49.0</td>\n",
       "      <td>54.75</td>\n",
       "      <td>14</td>\n",
       "    </tr>\n",
       "  </tbody>\n",
       "</table>\n",
       "</div>"
      ],
      "text/plain": [
       "  STATION DIVISION            DateTime  day_of_week                  UNIQUEID  \\\n",
       "0   59 ST      BMT 2018-05-12 00:00:00            5  59 ST_R051_A002_02-00-00   \n",
       "1   59 ST      BMT 2018-05-12 04:00:00            5  59 ST_R051_A002_02-00-00   \n",
       "2   59 ST      BMT 2018-05-12 08:00:00            5  59 ST_R051_A002_02-00-00   \n",
       "3   59 ST      BMT 2018-05-12 12:00:00            5  59 ST_R051_A002_02-00-00   \n",
       "4   59 ST      BMT 2018-05-12 16:00:00            5  59 ST_R051_A002_02-00-00   \n",
       "\n",
       "   time_span (hr)  entries  exits  avg_entries  median_hour  \n",
       "0             NaN      NaN    NaN          NaN           22  \n",
       "1             4.0     19.0    5.0         4.75            2  \n",
       "2             4.0     19.0   31.0         4.75            6  \n",
       "3             4.0    105.0   85.0        26.25           10  \n",
       "4             4.0    219.0   49.0        54.75           14  "
      ]
     },
     "execution_count": 135,
     "metadata": {},
     "output_type": "execute_result"
    }
   ],
   "source": [
    "mta_df.head()"
   ]
  },
  {
   "cell_type": "code",
   "execution_count": null,
   "metadata": {},
   "outputs": [],
   "source": []
  },
  {
   "cell_type": "code",
   "execution_count": null,
   "metadata": {},
   "outputs": [],
   "source": []
  },
  {
   "cell_type": "markdown",
   "metadata": {},
   "source": [
    "### Choose station"
   ]
  },
  {
   "cell_type": "code",
   "execution_count": 104,
   "metadata": {},
   "outputs": [],
   "source": [
    "# Choose penn station data\n",
    "penn_df = mta_df[mta_2018_df.STATION == '34 ST-PENN STA'].iloc[1:]\n",
    "\n",
    "# Filter for entries between 0 and 3000\n",
    "# Outliers come from switching to next turnstiles (should be the same as dropping first rows of each turnstile)\n",
    "# Filter out the negative values of avg_entries\n",
    "# (should be the same as dropping first value of each turnstile on a new day)\n",
    "penn_filter = penn_df[(penn_df.entries<100000) & (penn_df.entries>0)].copy()"
   ]
  },
  {
   "cell_type": "markdown",
   "metadata": {},
   "source": [
    "Check if the value of entries make sense:"
   ]
  },
  {
   "cell_type": "code",
   "execution_count": 105,
   "metadata": {},
   "outputs": [
    {
     "data": {
      "text/plain": [
       "(1.0, 261.16173425078495, 2812.0)"
      ]
     },
     "execution_count": 105,
     "metadata": {},
     "output_type": "execute_result"
    }
   ],
   "source": [
    "penn_filter.entries.min(),penn_filter.entries.mean(),penn_filter.entries.max()"
   ]
  },
  {
   "cell_type": "code",
   "execution_count": 107,
   "metadata": {},
   "outputs": [
    {
     "data": {
      "text/plain": [
       "(0.25, 65.73918678104937, 703.0)"
      ]
     },
     "execution_count": 107,
     "metadata": {},
     "output_type": "execute_result"
    }
   ],
   "source": [
    "# Check if values of avg_entries make sense\n",
    "# Found negative values: happens when switching to next turnsiles\n",
    "penn_filter['avg_entries'].min(), penn_filter['avg_entries'].mean(), penn_filter['avg_entries'].max()"
   ]
  },
  {
   "cell_type": "code",
   "execution_count": 109,
   "metadata": {},
   "outputs": [
    {
     "data": {
      "text/plain": [
       "95"
      ]
     },
     "execution_count": 109,
     "metadata": {},
     "output_type": "execute_result"
    }
   ],
   "source": [
    "# There are 95 turnstiles in Penn station?\n",
    "penn_filter.UNIQUEID.nunique()"
   ]
  },
  {
   "cell_type": "code",
   "execution_count": 110,
   "metadata": {},
   "outputs": [
    {
     "data": {
      "text/plain": [
       "(0.25, 65.73918678104937, 703.0)"
      ]
     },
     "execution_count": 110,
     "metadata": {},
     "output_type": "execute_result"
    }
   ],
   "source": [
    "penn_filter.avg_entries.min(),penn_filter.avg_entries.mean(),penn_filter.avg_entries.max()"
   ]
  },
  {
   "cell_type": "code",
   "execution_count": 137,
   "metadata": {},
   "outputs": [
    {
     "data": {
      "text/html": [
       "<div>\n",
       "<style scoped>\n",
       "    .dataframe tbody tr th:only-of-type {\n",
       "        vertical-align: middle;\n",
       "    }\n",
       "\n",
       "    .dataframe tbody tr th {\n",
       "        vertical-align: top;\n",
       "    }\n",
       "\n",
       "    .dataframe thead th {\n",
       "        text-align: right;\n",
       "    }\n",
       "</style>\n",
       "<table border=\"1\" class=\"dataframe\">\n",
       "  <thead>\n",
       "    <tr style=\"text-align: right;\">\n",
       "      <th></th>\n",
       "      <th>STATION</th>\n",
       "      <th>DIVISION</th>\n",
       "      <th>DateTime</th>\n",
       "      <th>day_of_week</th>\n",
       "      <th>UNIQUEID</th>\n",
       "      <th>time_span (hr)</th>\n",
       "      <th>entries</th>\n",
       "      <th>exits</th>\n",
       "      <th>avg_entries</th>\n",
       "      <th>median_hour</th>\n",
       "    </tr>\n",
       "  </thead>\n",
       "  <tbody>\n",
       "    <tr>\n",
       "      <th>129862</th>\n",
       "      <td>34 ST-PENN STA</td>\n",
       "      <td>IRT</td>\n",
       "      <td>2018-05-16 10:00:00</td>\n",
       "      <td>2</td>\n",
       "      <td>34 ST-PENN STA_R293_R138_00-00-03</td>\n",
       "      <td>4.0</td>\n",
       "      <td>2812.0</td>\n",
       "      <td>71.0</td>\n",
       "      <td>703.00</td>\n",
       "      <td>8</td>\n",
       "    </tr>\n",
       "    <tr>\n",
       "      <th>129868</th>\n",
       "      <td>34 ST-PENN STA</td>\n",
       "      <td>IRT</td>\n",
       "      <td>2018-05-17 10:00:00</td>\n",
       "      <td>3</td>\n",
       "      <td>34 ST-PENN STA_R293_R138_00-00-03</td>\n",
       "      <td>4.0</td>\n",
       "      <td>2683.0</td>\n",
       "      <td>74.0</td>\n",
       "      <td>670.75</td>\n",
       "      <td>8</td>\n",
       "    </tr>\n",
       "    <tr>\n",
       "      <th>721383</th>\n",
       "      <td>34 ST-PENN STA</td>\n",
       "      <td>IRT</td>\n",
       "      <td>2018-06-04 10:00:00</td>\n",
       "      <td>0</td>\n",
       "      <td>34 ST-PENN STA_R293_R138_00-00-03</td>\n",
       "      <td>4.0</td>\n",
       "      <td>2642.0</td>\n",
       "      <td>106.0</td>\n",
       "      <td>660.50</td>\n",
       "      <td>8</td>\n",
       "    </tr>\n",
       "    <tr>\n",
       "      <th>721299</th>\n",
       "      <td>34 ST-PENN STA</td>\n",
       "      <td>IRT</td>\n",
       "      <td>2018-06-04 10:00:00</td>\n",
       "      <td>0</td>\n",
       "      <td>34 ST-PENN STA_R293_R138_00-00-01</td>\n",
       "      <td>4.0</td>\n",
       "      <td>2602.0</td>\n",
       "      <td>143.0</td>\n",
       "      <td>650.50</td>\n",
       "      <td>8</td>\n",
       "    </tr>\n",
       "    <tr>\n",
       "      <th>721389</th>\n",
       "      <td>34 ST-PENN STA</td>\n",
       "      <td>IRT</td>\n",
       "      <td>2018-06-05 10:00:00</td>\n",
       "      <td>1</td>\n",
       "      <td>34 ST-PENN STA_R293_R138_00-00-03</td>\n",
       "      <td>4.0</td>\n",
       "      <td>2596.0</td>\n",
       "      <td>79.0</td>\n",
       "      <td>649.00</td>\n",
       "      <td>8</td>\n",
       "    </tr>\n",
       "    <tr>\n",
       "      <th>...</th>\n",
       "      <td>...</td>\n",
       "      <td>...</td>\n",
       "      <td>...</td>\n",
       "      <td>...</td>\n",
       "      <td>...</td>\n",
       "      <td>...</td>\n",
       "      <td>...</td>\n",
       "      <td>...</td>\n",
       "      <td>...</td>\n",
       "      <td>...</td>\n",
       "    </tr>\n",
       "    <tr>\n",
       "      <th>643681</th>\n",
       "      <td>34 ST-PENN STA</td>\n",
       "      <td>IND</td>\n",
       "      <td>2018-06-02 04:00:00</td>\n",
       "      <td>5</td>\n",
       "      <td>34 ST-PENN STA_R013_N073_02-00-00</td>\n",
       "      <td>4.0</td>\n",
       "      <td>1.0</td>\n",
       "      <td>8.0</td>\n",
       "      <td>0.25</td>\n",
       "      <td>2</td>\n",
       "    </tr>\n",
       "    <tr>\n",
       "      <th>50850</th>\n",
       "      <td>34 ST-PENN STA</td>\n",
       "      <td>IND</td>\n",
       "      <td>2018-05-13 12:00:00</td>\n",
       "      <td>6</td>\n",
       "      <td>34 ST-PENN STA_R012_N067_00-06-00</td>\n",
       "      <td>4.0</td>\n",
       "      <td>1.0</td>\n",
       "      <td>0.0</td>\n",
       "      <td>0.25</td>\n",
       "      <td>10</td>\n",
       "    </tr>\n",
       "    <tr>\n",
       "      <th>642283</th>\n",
       "      <td>34 ST-PENN STA</td>\n",
       "      <td>IND</td>\n",
       "      <td>2018-06-07 08:00:00</td>\n",
       "      <td>3</td>\n",
       "      <td>34 ST-PENN STA_R012_N067_00-06-00</td>\n",
       "      <td>4.0</td>\n",
       "      <td>1.0</td>\n",
       "      <td>0.0</td>\n",
       "      <td>0.25</td>\n",
       "      <td>6</td>\n",
       "    </tr>\n",
       "    <tr>\n",
       "      <th>445891</th>\n",
       "      <td>34 ST-PENN STA</td>\n",
       "      <td>IND</td>\n",
       "      <td>2018-05-27 08:00:00</td>\n",
       "      <td>6</td>\n",
       "      <td>34 ST-PENN STA_R013_N069_01-06-00</td>\n",
       "      <td>4.0</td>\n",
       "      <td>1.0</td>\n",
       "      <td>19.0</td>\n",
       "      <td>0.25</td>\n",
       "      <td>6</td>\n",
       "    </tr>\n",
       "    <tr>\n",
       "      <th>445521</th>\n",
       "      <td>34 ST-PENN STA</td>\n",
       "      <td>IND</td>\n",
       "      <td>2018-05-28 16:00:00</td>\n",
       "      <td>0</td>\n",
       "      <td>34 ST-PENN STA_R012_N067_00-06-00</td>\n",
       "      <td>4.0</td>\n",
       "      <td>1.0</td>\n",
       "      <td>0.0</td>\n",
       "      <td>0.25</td>\n",
       "      <td>14</td>\n",
       "    </tr>\n",
       "  </tbody>\n",
       "</table>\n",
       "<p>14969 rows × 10 columns</p>\n",
       "</div>"
      ],
      "text/plain": [
       "               STATION DIVISION            DateTime  day_of_week  \\\n",
       "129862  34 ST-PENN STA      IRT 2018-05-16 10:00:00            2   \n",
       "129868  34 ST-PENN STA      IRT 2018-05-17 10:00:00            3   \n",
       "721383  34 ST-PENN STA      IRT 2018-06-04 10:00:00            0   \n",
       "721299  34 ST-PENN STA      IRT 2018-06-04 10:00:00            0   \n",
       "721389  34 ST-PENN STA      IRT 2018-06-05 10:00:00            1   \n",
       "...                ...      ...                 ...          ...   \n",
       "643681  34 ST-PENN STA      IND 2018-06-02 04:00:00            5   \n",
       "50850   34 ST-PENN STA      IND 2018-05-13 12:00:00            6   \n",
       "642283  34 ST-PENN STA      IND 2018-06-07 08:00:00            3   \n",
       "445891  34 ST-PENN STA      IND 2018-05-27 08:00:00            6   \n",
       "445521  34 ST-PENN STA      IND 2018-05-28 16:00:00            0   \n",
       "\n",
       "                                 UNIQUEID  time_span (hr)  entries  exits  \\\n",
       "129862  34 ST-PENN STA_R293_R138_00-00-03             4.0   2812.0   71.0   \n",
       "129868  34 ST-PENN STA_R293_R138_00-00-03             4.0   2683.0   74.0   \n",
       "721383  34 ST-PENN STA_R293_R138_00-00-03             4.0   2642.0  106.0   \n",
       "721299  34 ST-PENN STA_R293_R138_00-00-01             4.0   2602.0  143.0   \n",
       "721389  34 ST-PENN STA_R293_R138_00-00-03             4.0   2596.0   79.0   \n",
       "...                                   ...             ...      ...    ...   \n",
       "643681  34 ST-PENN STA_R013_N073_02-00-00             4.0      1.0    8.0   \n",
       "50850   34 ST-PENN STA_R012_N067_00-06-00             4.0      1.0    0.0   \n",
       "642283  34 ST-PENN STA_R012_N067_00-06-00             4.0      1.0    0.0   \n",
       "445891  34 ST-PENN STA_R013_N069_01-06-00             4.0      1.0   19.0   \n",
       "445521  34 ST-PENN STA_R012_N067_00-06-00             4.0      1.0    0.0   \n",
       "\n",
       "        avg_entries  median_hour  \n",
       "129862       703.00            8  \n",
       "129868       670.75            8  \n",
       "721383       660.50            8  \n",
       "721299       650.50            8  \n",
       "721389       649.00            8  \n",
       "...             ...          ...  \n",
       "643681         0.25            2  \n",
       "50850          0.25           10  \n",
       "642283         0.25            6  \n",
       "445891         0.25            6  \n",
       "445521         0.25           14  \n",
       "\n",
       "[14969 rows x 10 columns]"
      ]
     },
     "execution_count": 137,
     "metadata": {},
     "output_type": "execute_result"
    }
   ],
   "source": [
    "penn_filter.sort_values('avg_entries',ascending=False)"
   ]
  },
  {
   "cell_type": "code",
   "execution_count": 138,
   "metadata": {
    "scrolled": true
   },
   "outputs": [],
   "source": [
    "# Sum over all turnstiles\n",
    "penn_total = penn_filter.groupby([\"day_of_week\",\"median_hour\"])['avg_entries'].sum().reset_index()\n",
    "# penn_total"
   ]
  },
  {
   "cell_type": "code",
   "execution_count": 139,
   "metadata": {},
   "outputs": [
    {
     "data": {
      "text/plain": [
       "35144.63881876886"
      ]
     },
     "execution_count": 139,
     "metadata": {},
     "output_type": "execute_result"
    }
   ],
   "source": [
    "penn_total.avg_entries.sum()/28"
   ]
  },
  {
   "cell_type": "code",
   "execution_count": 140,
   "metadata": {},
   "outputs": [
    {
     "data": {
      "text/plain": [
       "35144.63881876886"
      ]
     },
     "execution_count": 140,
     "metadata": {},
     "output_type": "execute_result"
    }
   ],
   "source": [
    "# Compare group station and sum\n",
    "penn_total_test = penn_filter.groupby([\"STATION\"])['avg_entries'].sum().reset_index()\n",
    "penn_total_test.avg_entries.sum()/28"
   ]
  },
  {
   "cell_type": "code",
   "execution_count": 141,
   "metadata": {},
   "outputs": [
    {
     "data": {
      "text/html": [
       "<div>\n",
       "<style scoped>\n",
       "    .dataframe tbody tr th:only-of-type {\n",
       "        vertical-align: middle;\n",
       "    }\n",
       "\n",
       "    .dataframe tbody tr th {\n",
       "        vertical-align: top;\n",
       "    }\n",
       "\n",
       "    .dataframe thead th {\n",
       "        text-align: right;\n",
       "    }\n",
       "</style>\n",
       "<table border=\"1\" class=\"dataframe\">\n",
       "  <thead>\n",
       "    <tr style=\"text-align: right;\">\n",
       "      <th></th>\n",
       "      <th>median_hour</th>\n",
       "      <th>avg_entries</th>\n",
       "    </tr>\n",
       "  </thead>\n",
       "  <tbody>\n",
       "    <tr>\n",
       "      <th>0</th>\n",
       "      <td>0</td>\n",
       "      <td>2383.458333</td>\n",
       "    </tr>\n",
       "    <tr>\n",
       "      <th>1</th>\n",
       "      <td>2</td>\n",
       "      <td>1873.781752</td>\n",
       "    </tr>\n",
       "    <tr>\n",
       "      <th>2</th>\n",
       "      <td>4</td>\n",
       "      <td>750.340358</td>\n",
       "    </tr>\n",
       "    <tr>\n",
       "      <th>3</th>\n",
       "      <td>6</td>\n",
       "      <td>12370.829455</td>\n",
       "    </tr>\n",
       "    <tr>\n",
       "      <th>4</th>\n",
       "      <td>8</td>\n",
       "      <td>16430.964286</td>\n",
       "    </tr>\n",
       "    <tr>\n",
       "      <th>5</th>\n",
       "      <td>10</td>\n",
       "      <td>26360.821429</td>\n",
       "    </tr>\n",
       "    <tr>\n",
       "      <th>6</th>\n",
       "      <td>12</td>\n",
       "      <td>7899.571429</td>\n",
       "    </tr>\n",
       "    <tr>\n",
       "      <th>7</th>\n",
       "      <td>14</td>\n",
       "      <td>18185.452239</td>\n",
       "    </tr>\n",
       "    <tr>\n",
       "      <th>8</th>\n",
       "      <td>15</td>\n",
       "      <td>1803.601191</td>\n",
       "    </tr>\n",
       "    <tr>\n",
       "      <th>9</th>\n",
       "      <td>16</td>\n",
       "      <td>9497.589689</td>\n",
       "    </tr>\n",
       "    <tr>\n",
       "      <th>10</th>\n",
       "      <td>17</td>\n",
       "      <td>1014.856021</td>\n",
       "    </tr>\n",
       "    <tr>\n",
       "      <th>11</th>\n",
       "      <td>18</td>\n",
       "      <td>27978.681932</td>\n",
       "    </tr>\n",
       "    <tr>\n",
       "      <th>12</th>\n",
       "      <td>20</td>\n",
       "      <td>7525.778820</td>\n",
       "    </tr>\n",
       "    <tr>\n",
       "      <th>13</th>\n",
       "      <td>22</td>\n",
       "      <td>10802.333333</td>\n",
       "    </tr>\n",
       "  </tbody>\n",
       "</table>\n",
       "</div>"
      ],
      "text/plain": [
       "    median_hour   avg_entries\n",
       "0             0   2383.458333\n",
       "1             2   1873.781752\n",
       "2             4    750.340358\n",
       "3             6  12370.829455\n",
       "4             8  16430.964286\n",
       "5            10  26360.821429\n",
       "6            12   7899.571429\n",
       "7            14  18185.452239\n",
       "8            15   1803.601191\n",
       "9            16   9497.589689\n",
       "10           17   1014.856021\n",
       "11           18  27978.681932\n",
       "12           20   7525.778820\n",
       "13           22  10802.333333"
      ]
     },
     "execution_count": 141,
     "metadata": {},
     "output_type": "execute_result"
    }
   ],
   "source": [
    "# Average over day\n",
    "penn_total_byday = penn_total.groupby(\"median_hour\")['avg_entries'].mean().reset_index()\n",
    "penn_total_byday"
   ]
  },
  {
   "cell_type": "code",
   "execution_count": 142,
   "metadata": {
    "scrolled": true
   },
   "outputs": [
    {
     "data": {
      "text/plain": [
       "Text(0, 0.5, 'total entries')"
      ]
     },
     "execution_count": 142,
     "metadata": {},
     "output_type": "execute_result"
    },
    {
     "data": {
      "image/png": "[encoded data removed]",
      "text/plain": [
       "<Figure size 432x288 with 1 Axes>"
      ]
     },
     "metadata": {
      "needs_background": "light"
     },
     "output_type": "display_data"
    }
   ],
   "source": [
    "# Barplot showing entries of the hour in a day\n",
    "ax = sns.barplot(x='median_hour', y= 'avg_entries', data = penn_total_byday)\n",
    "ax.set_title('penn station')\n",
    "ax.set_xlabel('time')\n",
    "ax.set_ylabel('total entries')"
   ]
  },
  {
   "cell_type": "code",
   "execution_count": 143,
   "metadata": {},
   "outputs": [
    {
     "data": {
      "text/plain": [
       "Text(0, 0.5, 'total entries')"
      ]
     },
     "execution_count": 143,
     "metadata": {},
     "output_type": "execute_result"
    },
    {
     "data": {
      "image/png": "[encoded data removed]",
      "text/plain": [
       "<Figure size 432x288 with 1 Axes>"
      ]
     },
     "metadata": {
      "needs_background": "light"
     },
     "output_type": "display_data"
    }
   ],
   "source": [
    "# Same data shown in lineplot (can overlap with data from other stations)\n",
    "ax = sns.lineplot(x='median_hour', y= 'avg_entries', data = penn_total_byday, label='penn station')\n",
    "ax.legend()\n",
    "ax.set_xlabel('time')\n",
    "ax.set_ylabel('total entries')"
   ]
  },
  {
   "cell_type": "code",
   "execution_count": null,
   "metadata": {},
   "outputs": [],
   "source": []
  },
  {
   "cell_type": "code",
   "execution_count": 144,
   "metadata": {},
   "outputs": [
    {
     "data": {
      "text/html": [
       "<div>\n",
       "<style scoped>\n",
       "    .dataframe tbody tr th:only-of-type {\n",
       "        vertical-align: middle;\n",
       "    }\n",
       "\n",
       "    .dataframe tbody tr th {\n",
       "        vertical-align: top;\n",
       "    }\n",
       "\n",
       "    .dataframe thead th {\n",
       "        text-align: right;\n",
       "    }\n",
       "</style>\n",
       "<table border=\"1\" class=\"dataframe\">\n",
       "  <thead>\n",
       "    <tr style=\"text-align: right;\">\n",
       "      <th></th>\n",
       "      <th>day_of_week</th>\n",
       "      <th>avg_entries</th>\n",
       "    </tr>\n",
       "  </thead>\n",
       "  <tbody>\n",
       "    <tr>\n",
       "      <th>0</th>\n",
       "      <td>0</td>\n",
       "      <td>146550.250000</td>\n",
       "    </tr>\n",
       "    <tr>\n",
       "      <th>1</th>\n",
       "      <td>1</td>\n",
       "      <td>173282.875000</td>\n",
       "    </tr>\n",
       "    <tr>\n",
       "      <th>2</th>\n",
       "      <td>2</td>\n",
       "      <td>176522.525960</td>\n",
       "    </tr>\n",
       "    <tr>\n",
       "      <th>3</th>\n",
       "      <td>3</td>\n",
       "      <td>178489.624715</td>\n",
       "    </tr>\n",
       "    <tr>\n",
       "      <th>4</th>\n",
       "      <td>4</td>\n",
       "      <td>165299.678492</td>\n",
       "    </tr>\n",
       "    <tr>\n",
       "      <th>5</th>\n",
       "      <td>5</td>\n",
       "      <td>68288.875000</td>\n",
       "    </tr>\n",
       "    <tr>\n",
       "      <th>6</th>\n",
       "      <td>6</td>\n",
       "      <td>75616.057758</td>\n",
       "    </tr>\n",
       "  </tbody>\n",
       "</table>\n",
       "</div>"
      ],
      "text/plain": [
       "   day_of_week    avg_entries\n",
       "0            0  146550.250000\n",
       "1            1  173282.875000\n",
       "2            2  176522.525960\n",
       "3            3  178489.624715\n",
       "4            4  165299.678492\n",
       "5            5   68288.875000\n",
       "6            6   75616.057758"
      ]
     },
     "execution_count": 144,
     "metadata": {},
     "output_type": "execute_result"
    }
   ],
   "source": [
    "# Day of week daily entries\n",
    "# Sum over all turnstiles\n",
    "# penn_total = penn_filter2.groupby([\"day_of_week\",\"median_hour\"])['avg_entries'].sum().reset_index()\n",
    "\n",
    "# Sum over hours for one day\n",
    "penn_total_byweek = penn_total.groupby(\"day_of_week\")['avg_entries'].sum().reset_index()\n",
    "penn_total_byweek"
   ]
  },
  {
   "cell_type": "code",
   "execution_count": 145,
   "metadata": {},
   "outputs": [
    {
     "data": {
      "text/plain": [
       "Text(0, 0.5, 'total entries')"
      ]
     },
     "execution_count": 145,
     "metadata": {},
     "output_type": "execute_result"
    },
    {
     "data": {
      "image/png": "[encoded data removed]",
      "text/plain": [
       "<Figure size 432x288 with 1 Axes>"
      ]
     },
     "metadata": {
      "needs_background": "light"
     },
     "output_type": "display_data"
    }
   ],
   "source": [
    "# Barplot showing entries of the hour in a day\n",
    "ax = sns.barplot(x='day_of_week', y= 'avg_entries', data = penn_total_byweek)\n",
    "ax.set_title('penn station')\n",
    "ax.set_xlabel('day of week')\n",
    "ax.set_ylabel('total entries')"
   ]
  },
  {
   "cell_type": "code",
   "execution_count": 146,
   "metadata": {},
   "outputs": [
    {
     "data": {
      "text/plain": [
       "(10348.432876164139, 248362.38902793935)"
      ]
     },
     "execution_count": 146,
     "metadata": {},
     "output_type": "execute_result"
    }
   ],
   "source": [
    "# Check the daily entries\n",
    "penn_total_byday.avg_entries.mean(),penn_total_byday.avg_entries.mean()*24"
   ]
  },
  {
   "cell_type": "code",
   "execution_count": null,
   "metadata": {},
   "outputs": [],
   "source": []
  },
  {
   "cell_type": "code",
   "execution_count": null,
   "metadata": {},
   "outputs": [],
   "source": []
  },
  {
   "cell_type": "code",
   "execution_count": 147,
   "metadata": {},
   "outputs": [],
   "source": [
    "# weekday/weekend\n",
    "penn_weekday = penn_filter[penn_filter['day_of_week'] < 5]\n",
    "penn_weekend = penn_filter[penn_filter['day_of_week'] >= 5]"
   ]
  },
  {
   "cell_type": "code",
   "execution_count": 148,
   "metadata": {},
   "outputs": [
    {
     "data": {
      "text/html": [
       "<div>\n",
       "<style scoped>\n",
       "    .dataframe tbody tr th:only-of-type {\n",
       "        vertical-align: middle;\n",
       "    }\n",
       "\n",
       "    .dataframe tbody tr th {\n",
       "        vertical-align: top;\n",
       "    }\n",
       "\n",
       "    .dataframe thead th {\n",
       "        text-align: right;\n",
       "    }\n",
       "</style>\n",
       "<table border=\"1\" class=\"dataframe\">\n",
       "  <thead>\n",
       "    <tr style=\"text-align: right;\">\n",
       "      <th></th>\n",
       "      <th>STATION</th>\n",
       "      <th>DIVISION</th>\n",
       "      <th>DateTime</th>\n",
       "      <th>day_of_week</th>\n",
       "      <th>UNIQUEID</th>\n",
       "      <th>time_span (hr)</th>\n",
       "      <th>entries</th>\n",
       "      <th>exits</th>\n",
       "      <th>avg_entries</th>\n",
       "      <th>median_hour</th>\n",
       "    </tr>\n",
       "  </thead>\n",
       "  <tbody>\n",
       "    <tr>\n",
       "      <th>50309</th>\n",
       "      <td>34 ST-PENN STA</td>\n",
       "      <td>IND</td>\n",
       "      <td>2018-05-12 04:00:00</td>\n",
       "      <td>5</td>\n",
       "      <td>34 ST-PENN STA_R012_N067_00-00-00</td>\n",
       "      <td>4.0</td>\n",
       "      <td>6.0</td>\n",
       "      <td>6.0</td>\n",
       "      <td>1.50</td>\n",
       "      <td>2</td>\n",
       "    </tr>\n",
       "    <tr>\n",
       "      <th>50310</th>\n",
       "      <td>34 ST-PENN STA</td>\n",
       "      <td>IND</td>\n",
       "      <td>2018-05-12 08:00:00</td>\n",
       "      <td>5</td>\n",
       "      <td>34 ST-PENN STA_R012_N067_00-00-00</td>\n",
       "      <td>4.0</td>\n",
       "      <td>28.0</td>\n",
       "      <td>43.0</td>\n",
       "      <td>7.00</td>\n",
       "      <td>6</td>\n",
       "    </tr>\n",
       "    <tr>\n",
       "      <th>50311</th>\n",
       "      <td>34 ST-PENN STA</td>\n",
       "      <td>IND</td>\n",
       "      <td>2018-05-12 12:00:00</td>\n",
       "      <td>5</td>\n",
       "      <td>34 ST-PENN STA_R012_N067_00-00-00</td>\n",
       "      <td>4.0</td>\n",
       "      <td>95.0</td>\n",
       "      <td>116.0</td>\n",
       "      <td>23.75</td>\n",
       "      <td>10</td>\n",
       "    </tr>\n",
       "    <tr>\n",
       "      <th>50312</th>\n",
       "      <td>34 ST-PENN STA</td>\n",
       "      <td>IND</td>\n",
       "      <td>2018-05-12 16:00:00</td>\n",
       "      <td>5</td>\n",
       "      <td>34 ST-PENN STA_R012_N067_00-00-00</td>\n",
       "      <td>4.0</td>\n",
       "      <td>150.0</td>\n",
       "      <td>150.0</td>\n",
       "      <td>37.50</td>\n",
       "      <td>14</td>\n",
       "    </tr>\n",
       "    <tr>\n",
       "      <th>50313</th>\n",
       "      <td>34 ST-PENN STA</td>\n",
       "      <td>IND</td>\n",
       "      <td>2018-05-12 20:00:00</td>\n",
       "      <td>5</td>\n",
       "      <td>34 ST-PENN STA_R012_N067_00-00-00</td>\n",
       "      <td>4.0</td>\n",
       "      <td>105.0</td>\n",
       "      <td>157.0</td>\n",
       "      <td>26.25</td>\n",
       "      <td>18</td>\n",
       "    </tr>\n",
       "    <tr>\n",
       "      <th>...</th>\n",
       "      <td>...</td>\n",
       "      <td>...</td>\n",
       "      <td>...</td>\n",
       "      <td>...</td>\n",
       "      <td>...</td>\n",
       "      <td>...</td>\n",
       "      <td>...</td>\n",
       "      <td>...</td>\n",
       "      <td>...</td>\n",
       "      <td>...</td>\n",
       "    </tr>\n",
       "    <tr>\n",
       "      <th>722593</th>\n",
       "      <td>34 ST-PENN STA</td>\n",
       "      <td>IRT</td>\n",
       "      <td>2018-06-03 06:00:00</td>\n",
       "      <td>6</td>\n",
       "      <td>34 ST-PENN STA_R293_R142_01-06-01</td>\n",
       "      <td>4.0</td>\n",
       "      <td>9.0</td>\n",
       "      <td>7.0</td>\n",
       "      <td>2.25</td>\n",
       "      <td>4</td>\n",
       "    </tr>\n",
       "    <tr>\n",
       "      <th>722594</th>\n",
       "      <td>34 ST-PENN STA</td>\n",
       "      <td>IRT</td>\n",
       "      <td>2018-06-03 10:00:00</td>\n",
       "      <td>6</td>\n",
       "      <td>34 ST-PENN STA_R293_R142_01-06-01</td>\n",
       "      <td>4.0</td>\n",
       "      <td>46.0</td>\n",
       "      <td>67.0</td>\n",
       "      <td>11.50</td>\n",
       "      <td>8</td>\n",
       "    </tr>\n",
       "    <tr>\n",
       "      <th>722595</th>\n",
       "      <td>34 ST-PENN STA</td>\n",
       "      <td>IRT</td>\n",
       "      <td>2018-06-03 14:00:00</td>\n",
       "      <td>6</td>\n",
       "      <td>34 ST-PENN STA_R293_R142_01-06-01</td>\n",
       "      <td>4.0</td>\n",
       "      <td>120.0</td>\n",
       "      <td>173.0</td>\n",
       "      <td>30.00</td>\n",
       "      <td>12</td>\n",
       "    </tr>\n",
       "    <tr>\n",
       "      <th>722596</th>\n",
       "      <td>34 ST-PENN STA</td>\n",
       "      <td>IRT</td>\n",
       "      <td>2018-06-03 18:00:00</td>\n",
       "      <td>6</td>\n",
       "      <td>34 ST-PENN STA_R293_R142_01-06-01</td>\n",
       "      <td>4.0</td>\n",
       "      <td>115.0</td>\n",
       "      <td>271.0</td>\n",
       "      <td>28.75</td>\n",
       "      <td>16</td>\n",
       "    </tr>\n",
       "    <tr>\n",
       "      <th>722597</th>\n",
       "      <td>34 ST-PENN STA</td>\n",
       "      <td>IRT</td>\n",
       "      <td>2018-06-03 22:00:00</td>\n",
       "      <td>6</td>\n",
       "      <td>34 ST-PENN STA_R293_R142_01-06-01</td>\n",
       "      <td>4.0</td>\n",
       "      <td>102.0</td>\n",
       "      <td>124.0</td>\n",
       "      <td>25.50</td>\n",
       "      <td>20</td>\n",
       "    </tr>\n",
       "  </tbody>\n",
       "</table>\n",
       "<p>3932 rows × 10 columns</p>\n",
       "</div>"
      ],
      "text/plain": [
       "               STATION DIVISION            DateTime  day_of_week  \\\n",
       "50309   34 ST-PENN STA      IND 2018-05-12 04:00:00            5   \n",
       "50310   34 ST-PENN STA      IND 2018-05-12 08:00:00            5   \n",
       "50311   34 ST-PENN STA      IND 2018-05-12 12:00:00            5   \n",
       "50312   34 ST-PENN STA      IND 2018-05-12 16:00:00            5   \n",
       "50313   34 ST-PENN STA      IND 2018-05-12 20:00:00            5   \n",
       "...                ...      ...                 ...          ...   \n",
       "722593  34 ST-PENN STA      IRT 2018-06-03 06:00:00            6   \n",
       "722594  34 ST-PENN STA      IRT 2018-06-03 10:00:00            6   \n",
       "722595  34 ST-PENN STA      IRT 2018-06-03 14:00:00            6   \n",
       "722596  34 ST-PENN STA      IRT 2018-06-03 18:00:00            6   \n",
       "722597  34 ST-PENN STA      IRT 2018-06-03 22:00:00            6   \n",
       "\n",
       "                                 UNIQUEID  time_span (hr)  entries  exits  \\\n",
       "50309   34 ST-PENN STA_R012_N067_00-00-00             4.0      6.0    6.0   \n",
       "50310   34 ST-PENN STA_R012_N067_00-00-00             4.0     28.0   43.0   \n",
       "50311   34 ST-PENN STA_R012_N067_00-00-00             4.0     95.0  116.0   \n",
       "50312   34 ST-PENN STA_R012_N067_00-00-00             4.0    150.0  150.0   \n",
       "50313   34 ST-PENN STA_R012_N067_00-00-00             4.0    105.0  157.0   \n",
       "...                                   ...             ...      ...    ...   \n",
       "722593  34 ST-PENN STA_R293_R142_01-06-01             4.0      9.0    7.0   \n",
       "722594  34 ST-PENN STA_R293_R142_01-06-01             4.0     46.0   67.0   \n",
       "722595  34 ST-PENN STA_R293_R142_01-06-01             4.0    120.0  173.0   \n",
       "722596  34 ST-PENN STA_R293_R142_01-06-01             4.0    115.0  271.0   \n",
       "722597  34 ST-PENN STA_R293_R142_01-06-01             4.0    102.0  124.0   \n",
       "\n",
       "        avg_entries  median_hour  \n",
       "50309          1.50            2  \n",
       "50310          7.00            6  \n",
       "50311         23.75           10  \n",
       "50312         37.50           14  \n",
       "50313         26.25           18  \n",
       "...             ...          ...  \n",
       "722593         2.25            4  \n",
       "722594        11.50            8  \n",
       "722595        30.00           12  \n",
       "722596        28.75           16  \n",
       "722597        25.50           20  \n",
       "\n",
       "[3932 rows x 10 columns]"
      ]
     },
     "execution_count": 148,
     "metadata": {},
     "output_type": "execute_result"
    }
   ],
   "source": [
    "penn_weekend"
   ]
  },
  {
   "cell_type": "code",
   "execution_count": 149,
   "metadata": {},
   "outputs": [],
   "source": [
    "# Weekday data\n",
    "# Sum over all turnstiles\n",
    "penn_weekday_total = penn_weekday.groupby([\"day_of_week\",\"median_hour\"])['avg_entries'].sum().reset_index()\n",
    "# Average over day\n",
    "penn_weekday_total_byday = penn_weekday_total.groupby(\"median_hour\")['avg_entries'].mean().reset_index()\n",
    "# penn_weekday_total_byday"
   ]
  },
  {
   "cell_type": "code",
   "execution_count": 150,
   "metadata": {},
   "outputs": [
    {
     "data": {
      "text/plain": [
       "Text(0, 0.5, 'total entries')"
      ]
     },
     "execution_count": 150,
     "metadata": {},
     "output_type": "execute_result"
    },
    {
     "data": {
      "image/png": "[encoded data removed]",
      "text/plain": [
       "<Figure size 432x288 with 1 Axes>"
      ]
     },
     "metadata": {
      "needs_background": "light"
     },
     "output_type": "display_data"
    }
   ],
   "source": [
    "# Barplot showing entries of the hour in a day\n",
    "ax = sns.barplot(x='median_hour', y= 'avg_entries', data = penn_weekday_total_byday)\n",
    "ax.set_title('penn station (weekday)')\n",
    "ax.set_xlabel('time')\n",
    "ax.set_ylabel('total entries')"
   ]
  },
  {
   "cell_type": "code",
   "execution_count": 151,
   "metadata": {},
   "outputs": [],
   "source": [
    "# Weekend data\n",
    "# Sum over all turnstiles\n",
    "penn_weekend_total = penn_weekend.groupby([\"day_of_week\",\"median_hour\"])['avg_entries'].sum().reset_index()\n",
    "# Average over day\n",
    "penn_weekend_total_byday = penn_weekend_total.groupby(\"median_hour\")['avg_entries'].mean().reset_index()\n",
    "# penn_weekend_total_byday"
   ]
  },
  {
   "cell_type": "code",
   "execution_count": 152,
   "metadata": {
    "scrolled": true
   },
   "outputs": [
    {
     "data": {
      "text/plain": [
       "Text(0, 0.5, 'total entries')"
      ]
     },
     "execution_count": 152,
     "metadata": {},
     "output_type": "execute_result"
    },
    {
     "data": {
      "image/png": "[encoded data removed]",
      "text/plain": [
       "<Figure size 432x288 with 1 Axes>"
      ]
     },
     "metadata": {
      "needs_background": "light"
     },
     "output_type": "display_data"
    }
   ],
   "source": [
    "# Barplot showing entries of the hour in a day\n",
    "ax = sns.barplot(x='median_hour', y= 'avg_entries', data = penn_weekend_total_byday)\n",
    "ax.set_title('penn station (weekend)')\n",
    "ax.set_xlabel('time')\n",
    "ax.set_ylabel('total entries')"
   ]
  },
  {
   "cell_type": "code",
   "execution_count": null,
   "metadata": {},
   "outputs": [],
   "source": []
  },
  {
   "cell_type": "code",
   "execution_count": 134,
   "metadata": {},
   "outputs": [
    {
     "data": {
      "text/plain": [
       "Text(0, 0.5, 'total entries')"
      ]
     },
     "execution_count": 134,
     "metadata": {},
     "output_type": "execute_result"
    },
    {
     "data": {
      "image/png": "[encoded data removed]",
      "text/plain": [
       "<Figure size 432x288 with 1 Axes>"
      ]
     },
     "metadata": {
      "needs_background": "light"
     },
     "output_type": "display_data"
    }
   ],
   "source": [
    "# Plot together for comparison\n",
    "ax = sns.lineplot(x='median_hour', y= 'avg_entries', data = penn_weekday_total_byday)\n",
    "ax.set_title('penn station (weekday)')\n",
    "ax.set_xlabel('time')\n",
    "ax.set_ylabel('total entries')\n",
    "ax = sns.lineplot(x='median_hour', y= 'avg_entries', data = penn_weekend_total_byday)\n",
    "ax.set_title('penn station (weekend)')\n",
    "ax.set_xlabel('time')\n",
    "ax.set_ylabel('total entries')"
   ]
  },
  {
   "cell_type": "code",
   "execution_count": null,
   "metadata": {},
   "outputs": [],
   "source": []
  }
 ],
 "metadata": {
  "kernelspec": {
   "display_name": "Python 3",
   "language": "python",
   "name": "python3"
  },
  "language_info": {
   "codemirror_mode": {
    "name": "ipython",
    "version": 3
   },
   "file_extension": ".py",
   "mimetype": "text/x-python",
   "name": "python",
   "nbconvert_exporter": "python",
   "pygments_lexer": "ipython3",
   "version": "3.8.5"
  }
 },
 "nbformat": 4,
 "nbformat_minor": 4
}
